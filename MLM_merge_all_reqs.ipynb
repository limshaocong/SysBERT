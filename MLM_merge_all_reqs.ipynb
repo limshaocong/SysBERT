{
  "nbformat": 4,
  "nbformat_minor": 0,
  "metadata": {
    "colab": {
      "name": "MLM-merge-all-reqs.ipynb",
      "provenance": [],
      "authorship_tag": "ABX9TyOuoh5ai0WaYzLxRWAhy9yu",
      "include_colab_link": true
    },
    "kernelspec": {
      "name": "python3",
      "display_name": "Python 3"
    },
    "language_info": {
      "name": "python"
    }
  },
  "cells": [
    {
      "cell_type": "markdown",
      "metadata": {
        "id": "view-in-github",
        "colab_type": "text"
      },
      "source": [
        "<a href=\"https://colab.research.google.com/github/limshaocong/SysBERT/blob/main/MLM_merge_all_reqs.ipynb\" target=\"_parent\"><img src=\"https://colab.research.google.com/assets/colab-badge.svg\" alt=\"Open In Colab\"/></a>"
      ]
    },
    {
      "cell_type": "code",
      "execution_count": 1,
      "metadata": {
        "colab": {
          "base_uri": "https://localhost:8080/"
        },
        "id": "A0DhkGNcdDMt",
        "outputId": "dbee0eb3-cfd8-4115-97b7-5e106bfd3b25"
      },
      "outputs": [
        {
          "output_type": "stream",
          "name": "stdout",
          "text": [
            "Cloning into 'SysBERT'...\n",
            "remote: Enumerating objects: 481, done.\u001b[K\n",
            "remote: Counting objects: 100% (481/481), done.\u001b[K\n",
            "remote: Compressing objects: 100% (456/456), done.\u001b[K\n",
            "remote: Total 481 (delta 49), reused 408 (delta 13), pack-reused 0\u001b[K\n",
            "Receiving objects: 100% (481/481), 4.19 MiB | 6.60 MiB/s, done.\n",
            "Resolving deltas: 100% (49/49), done.\n"
          ]
        }
      ],
      "source": [
        "! git clone https://github.com/limshaocong/SysBERT.git"
      ]
    },
    {
      "cell_type": "markdown",
      "source": [
        "Extract all requirements into a list."
      ],
      "metadata": {
        "id": "R-RI0dFAkk-5"
      }
    },
    {
      "cell_type": "code",
      "source": [
        "import os\n",
        "import pandas as pd\n",
        "\n",
        "unlabeled_path = '/content/SysBERT/Requirements/Unlabelled'\n",
        "\n",
        "all_reqs_list = []\n",
        "all_source_list = []\n",
        "\n",
        "for f in os.listdir(unlabeled_path):\n",
        "  \n",
        "  f_path = os.path.join(unlabeled_path, f)\n",
        "  df = pd.read_csv(f_path, encoding = 'ISO-8859-1')\n",
        "  \n",
        "  reqs_list = df['reqs'].to_list()\n",
        "  all_reqs_list.extend(reqs_list)\n",
        "\n",
        "  source_list = df['source'].to_list()\n",
        "  all_source_list.extend(source_list)\n"
      ],
      "metadata": {
        "id": "kEWcpMBGdfTQ"
      },
      "execution_count": 2,
      "outputs": []
    },
    {
      "cell_type": "markdown",
      "source": [
        "Remove all url substrings."
      ],
      "metadata": {
        "id": "I3-Qh3Qakquu"
      }
    },
    {
      "cell_type": "code",
      "source": [
        "import re\n",
        "\n",
        "all_reqs_list = [re.sub(r'''(?i)\\b((?:https?://|www\\d{0,3}[.]|[a-z0-9.\\-]+[.][a-z]{2,4}/)(?:[^\\s()<>]+|\\(([^\\s()<>]+|(\\([^\\s()<>]+\\)))*\\))+(?:\\(([^\\s()<>]+|(\\([^\\s()<>]+\\)))*\\)|[^\\s`!()\\[\\]{};:'\".,<>?«»“”‘’]))''', \" \", req)\n",
        " for req in all_reqs_list]\n",
        "\n",
        "print(f'{len(all_reqs_list)} requirement statements')"
      ],
      "metadata": {
        "colab": {
          "base_uri": "https://localhost:8080/"
        },
        "id": "8mGsxOewiR6Y",
        "outputId": "d4fd00f4-2ded-404c-f616-8555360efb50"
      },
      "execution_count": 3,
      "outputs": [
        {
          "output_type": "stream",
          "name": "stdout",
          "text": [
            "12771 requirement statements\n"
          ]
        }
      ]
    },
    {
      "cell_type": "code",
      "source": [
        "req_dict = {\n",
        "    'source' : all_source_list,\n",
        "    'reqs' : all_reqs_list\n",
        "}\n",
        "\n",
        "df = pd.DataFrame(req_dict)\n",
        "\n",
        "df.head() "
      ],
      "metadata": {
        "id": "Mfp8fDJOmVJO",
        "outputId": "84f5ad3a-afdd-4555-aef9-f4355ff5eb3c",
        "colab": {
          "base_uri": "https://localhost:8080/",
          "height": 206
        }
      },
      "execution_count": 4,
      "outputs": [
        {
          "output_type": "execute_result",
          "data": {
            "text/plain": [
              "          source                                               reqs\n",
              "0  2019_jpss_WEB  The JPSS-1 satellite shall be designed for a m...\n",
              "1  2019_jpss_WEB  Excluding on-orbit failures, JPSS-1 shall main...\n",
              "2  2019_jpss_WEB  JPSS-1 shall be operated in a polar sun-synchr...\n",
              "3  2019_jpss_WEB  JPSS-1 shall be Category 1 per NASA Procedural...\n",
              "4  2019_jpss_WEB  The JPSS-1 satellite shall be launched on an e..."
            ],
            "text/html": [
              "\n",
              "  <div id=\"df-a99d2ade-350f-4ad5-83f8-454a26fa7b90\">\n",
              "    <div class=\"colab-df-container\">\n",
              "      <div>\n",
              "<style scoped>\n",
              "    .dataframe tbody tr th:only-of-type {\n",
              "        vertical-align: middle;\n",
              "    }\n",
              "\n",
              "    .dataframe tbody tr th {\n",
              "        vertical-align: top;\n",
              "    }\n",
              "\n",
              "    .dataframe thead th {\n",
              "        text-align: right;\n",
              "    }\n",
              "</style>\n",
              "<table border=\"1\" class=\"dataframe\">\n",
              "  <thead>\n",
              "    <tr style=\"text-align: right;\">\n",
              "      <th></th>\n",
              "      <th>source</th>\n",
              "      <th>reqs</th>\n",
              "    </tr>\n",
              "  </thead>\n",
              "  <tbody>\n",
              "    <tr>\n",
              "      <th>0</th>\n",
              "      <td>2019_jpss_WEB</td>\n",
              "      <td>The JPSS-1 satellite shall be designed for a m...</td>\n",
              "    </tr>\n",
              "    <tr>\n",
              "      <th>1</th>\n",
              "      <td>2019_jpss_WEB</td>\n",
              "      <td>Excluding on-orbit failures, JPSS-1 shall main...</td>\n",
              "    </tr>\n",
              "    <tr>\n",
              "      <th>2</th>\n",
              "      <td>2019_jpss_WEB</td>\n",
              "      <td>JPSS-1 shall be operated in a polar sun-synchr...</td>\n",
              "    </tr>\n",
              "    <tr>\n",
              "      <th>3</th>\n",
              "      <td>2019_jpss_WEB</td>\n",
              "      <td>JPSS-1 shall be Category 1 per NASA Procedural...</td>\n",
              "    </tr>\n",
              "    <tr>\n",
              "      <th>4</th>\n",
              "      <td>2019_jpss_WEB</td>\n",
              "      <td>The JPSS-1 satellite shall be launched on an e...</td>\n",
              "    </tr>\n",
              "  </tbody>\n",
              "</table>\n",
              "</div>\n",
              "      <button class=\"colab-df-convert\" onclick=\"convertToInteractive('df-a99d2ade-350f-4ad5-83f8-454a26fa7b90')\"\n",
              "              title=\"Convert this dataframe to an interactive table.\"\n",
              "              style=\"display:none;\">\n",
              "        \n",
              "  <svg xmlns=\"http://www.w3.org/2000/svg\" height=\"24px\"viewBox=\"0 0 24 24\"\n",
              "       width=\"24px\">\n",
              "    <path d=\"M0 0h24v24H0V0z\" fill=\"none\"/>\n",
              "    <path d=\"M18.56 5.44l.94 2.06.94-2.06 2.06-.94-2.06-.94-.94-2.06-.94 2.06-2.06.94zm-11 1L8.5 8.5l.94-2.06 2.06-.94-2.06-.94L8.5 2.5l-.94 2.06-2.06.94zm10 10l.94 2.06.94-2.06 2.06-.94-2.06-.94-.94-2.06-.94 2.06-2.06.94z\"/><path d=\"M17.41 7.96l-1.37-1.37c-.4-.4-.92-.59-1.43-.59-.52 0-1.04.2-1.43.59L10.3 9.45l-7.72 7.72c-.78.78-.78 2.05 0 2.83L4 21.41c.39.39.9.59 1.41.59.51 0 1.02-.2 1.41-.59l7.78-7.78 2.81-2.81c.8-.78.8-2.07 0-2.86zM5.41 20L4 18.59l7.72-7.72 1.47 1.35L5.41 20z\"/>\n",
              "  </svg>\n",
              "      </button>\n",
              "      \n",
              "  <style>\n",
              "    .colab-df-container {\n",
              "      display:flex;\n",
              "      flex-wrap:wrap;\n",
              "      gap: 12px;\n",
              "    }\n",
              "\n",
              "    .colab-df-convert {\n",
              "      background-color: #E8F0FE;\n",
              "      border: none;\n",
              "      border-radius: 50%;\n",
              "      cursor: pointer;\n",
              "      display: none;\n",
              "      fill: #1967D2;\n",
              "      height: 32px;\n",
              "      padding: 0 0 0 0;\n",
              "      width: 32px;\n",
              "    }\n",
              "\n",
              "    .colab-df-convert:hover {\n",
              "      background-color: #E2EBFA;\n",
              "      box-shadow: 0px 1px 2px rgba(60, 64, 67, 0.3), 0px 1px 3px 1px rgba(60, 64, 67, 0.15);\n",
              "      fill: #174EA6;\n",
              "    }\n",
              "\n",
              "    [theme=dark] .colab-df-convert {\n",
              "      background-color: #3B4455;\n",
              "      fill: #D2E3FC;\n",
              "    }\n",
              "\n",
              "    [theme=dark] .colab-df-convert:hover {\n",
              "      background-color: #434B5C;\n",
              "      box-shadow: 0px 1px 3px 1px rgba(0, 0, 0, 0.15);\n",
              "      filter: drop-shadow(0px 1px 2px rgba(0, 0, 0, 0.3));\n",
              "      fill: #FFFFFF;\n",
              "    }\n",
              "  </style>\n",
              "\n",
              "      <script>\n",
              "        const buttonEl =\n",
              "          document.querySelector('#df-a99d2ade-350f-4ad5-83f8-454a26fa7b90 button.colab-df-convert');\n",
              "        buttonEl.style.display =\n",
              "          google.colab.kernel.accessAllowed ? 'block' : 'none';\n",
              "\n",
              "        async function convertToInteractive(key) {\n",
              "          const element = document.querySelector('#df-a99d2ade-350f-4ad5-83f8-454a26fa7b90');\n",
              "          const dataTable =\n",
              "            await google.colab.kernel.invokeFunction('convertToInteractive',\n",
              "                                                     [key], {});\n",
              "          if (!dataTable) return;\n",
              "\n",
              "          const docLinkHtml = 'Like what you see? Visit the ' +\n",
              "            '<a target=\"_blank\" href=https://colab.research.google.com/notebooks/data_table.ipynb>data table notebook</a>'\n",
              "            + ' to learn more about interactive tables.';\n",
              "          element.innerHTML = '';\n",
              "          dataTable['output_type'] = 'display_data';\n",
              "          await google.colab.output.renderOutput(dataTable, element);\n",
              "          const docLink = document.createElement('div');\n",
              "          docLink.innerHTML = docLinkHtml;\n",
              "          element.appendChild(docLink);\n",
              "        }\n",
              "      </script>\n",
              "    </div>\n",
              "  </div>\n",
              "  "
            ]
          },
          "metadata": {},
          "execution_count": 4
        }
      ]
    },
    {
      "cell_type": "code",
      "source": [
        "import math\n",
        "import random\n",
        "\n",
        "random.seed(1)\n",
        "\n",
        "shuffled_df = df.sample(frac = 1)\n",
        "shuffled_df\n",
        "\n",
        "train_n = math.floor(0.9 * shuffled_df.shape[0])\n",
        "\n",
        "train = shuffled_df[:train_n]\n",
        "test = shuffled_df[train_n:]"
      ],
      "metadata": {
        "id": "YDHR7IUTrwKl"
      },
      "execution_count": 17,
      "outputs": []
    },
    {
      "cell_type": "code",
      "source": [
        "test.shape"
      ],
      "metadata": {
        "id": "L88MIpSEsibO",
        "outputId": "bc22800c-183f-4f6a-c0c0-6046e9b6e0c2",
        "colab": {
          "base_uri": "https://localhost:8080/"
        }
      },
      "execution_count": 18,
      "outputs": [
        {
          "output_type": "execute_result",
          "data": {
            "text/plain": [
              "(1278, 2)"
            ]
          },
          "metadata": {},
          "execution_count": 18
        }
      ]
    },
    {
      "cell_type": "code",
      "source": [
        "train.to_csv('mlm_train.csv', index = False)\n",
        "test.to_csv('mlm_test.csv', index = False)"
      ],
      "metadata": {
        "id": "Oi8667nOkW76"
      },
      "execution_count": 19,
      "outputs": []
    }
  ]
}