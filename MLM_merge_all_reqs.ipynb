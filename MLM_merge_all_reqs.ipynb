{
  "nbformat": 4,
  "nbformat_minor": 0,
  "metadata": {
    "colab": {
      "name": "MLM-merge-all-reqs.ipynb",
      "provenance": [],
      "authorship_tag": "ABX9TyPtBHUScEcapkSQMyU4M1tC",
      "include_colab_link": true
    },
    "kernelspec": {
      "name": "python3",
      "display_name": "Python 3"
    },
    "language_info": {
      "name": "python"
    }
  },
  "cells": [
    {
      "cell_type": "markdown",
      "metadata": {
        "id": "view-in-github",
        "colab_type": "text"
      },
      "source": [
        "<a href=\"https://colab.research.google.com/github/limshaocong/SysBERT/blob/main/MLM_merge_all_reqs.ipynb\" target=\"_parent\"><img src=\"https://colab.research.google.com/assets/colab-badge.svg\" alt=\"Open In Colab\"/></a>"
      ]
    },
    {
      "cell_type": "code",
      "execution_count": 1,
      "metadata": {
        "colab": {
          "base_uri": "https://localhost:8080/"
        },
        "id": "A0DhkGNcdDMt",
        "outputId": "abf1e456-0bb7-49d5-d042-92f075b9382a"
      },
      "outputs": [
        {
          "output_type": "stream",
          "name": "stdout",
          "text": [
            "Cloning into 'SysBERT'...\n",
            "remote: Enumerating objects: 474, done.\u001b[K\n",
            "remote: Counting objects: 100% (474/474), done.\u001b[K\n",
            "remote: Compressing objects: 100% (450/450), done.\u001b[K\n",
            "remote: Total 474 (delta 49), reused 404 (delta 13), pack-reused 0\u001b[K\n",
            "Receiving objects: 100% (474/474), 3.65 MiB | 10.71 MiB/s, done.\n",
            "Resolving deltas: 100% (49/49), done.\n"
          ]
        }
      ],
      "source": [
        "! git clone https://github.com/limshaocong/SysBERT.git"
      ]
    },
    {
      "cell_type": "markdown",
      "source": [
        "Extract all requirements into a list."
      ],
      "metadata": {
        "id": "R-RI0dFAkk-5"
      }
    },
    {
      "cell_type": "code",
      "source": [
        "import os\n",
        "import pandas as pd\n",
        "\n",
        "unlabeled_path = '/content/SysBERT/Requirements/Unlabelled'\n",
        "\n",
        "all_reqs_list = []\n",
        "all_source_list = []\n",
        "\n",
        "for f in os.listdir(unlabeled_path):\n",
        "  \n",
        "  f_path = os.path.join(unlabeled_path, f)\n",
        "  df = pd.read_csv(f_path, encoding = 'ISO-8859-1')\n",
        "  \n",
        "  reqs_list = df['reqs'].to_list()\n",
        "  all_reqs_list.extend(reqs_list)\n",
        "\n",
        "  source_list = df['source'].to_list()\n",
        "  all_source_list.extend(source_list)\n"
      ],
      "metadata": {
        "id": "kEWcpMBGdfTQ"
      },
      "execution_count": 11,
      "outputs": []
    },
    {
      "cell_type": "markdown",
      "source": [
        "Remove all url substrings."
      ],
      "metadata": {
        "id": "I3-Qh3Qakquu"
      }
    },
    {
      "cell_type": "code",
      "source": [
        "import re\n",
        "\n",
        "all_reqs_list = [re.sub(r'''(?i)\\b((?:https?://|www\\d{0,3}[.]|[a-z0-9.\\-]+[.][a-z]{2,4}/)(?:[^\\s()<>]+|\\(([^\\s()<>]+|(\\([^\\s()<>]+\\)))*\\))+(?:\\(([^\\s()<>]+|(\\([^\\s()<>]+\\)))*\\)|[^\\s`!()\\[\\]{};:'\".,<>?«»“”‘’]))''', \" \", req)\n",
        " for req in all_reqs_list]\n",
        "\n",
        "print(f'{len(all_reqs_list)} requirement statements')"
      ],
      "metadata": {
        "colab": {
          "base_uri": "https://localhost:8080/"
        },
        "id": "8mGsxOewiR6Y",
        "outputId": "153c0d4d-4bb7-4fe9-9bce-5694ced8e3c4"
      },
      "execution_count": 7,
      "outputs": [
        {
          "output_type": "stream",
          "name": "stdout",
          "text": [
            "12771 requirement statements\n"
          ]
        }
      ]
    },
    {
      "cell_type": "code",
      "source": [
        "req_dict = {\n",
        "    'source' : all_source_list,\n",
        "    'reqs' : all_reqs_list\n",
        "}\n",
        "\n",
        "df = pd.DataFrame(req_dict)\n",
        "\n",
        "df.head() "
      ],
      "metadata": {
        "id": "Mfp8fDJOmVJO"
      },
      "execution_count": 12,
      "outputs": []
    },
    {
      "cell_type": "code",
      "source": [
        "df.to_csv('mlm.csv', index = False)"
      ],
      "metadata": {
        "id": "Oi8667nOkW76"
      },
      "execution_count": 17,
      "outputs": []
    }
  ]
}