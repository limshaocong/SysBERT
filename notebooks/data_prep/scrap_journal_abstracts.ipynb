{
  "nbformat": 4,
  "nbformat_minor": 0,
  "metadata": {
    "colab": {
      "name": "scrap journal abstracts.ipynb",
      "provenance": [],
      "collapsed_sections": [
        "QdfX4kODbi85",
        "Zxt5RmUZcua2"
      ],
      "authorship_tag": "ABX9TyOZH9YKA8Vx2PQHeLvBUU0+",
      "include_colab_link": true
    },
    "kernelspec": {
      "name": "python3",
      "display_name": "Python 3"
    },
    "language_info": {
      "name": "python"
    }
  },
  "cells": [
    {
      "cell_type": "markdown",
      "metadata": {
        "id": "view-in-github",
        "colab_type": "text"
      },
      "source": [
        "<a href=\"https://colab.research.google.com/github/limshaocong/SysBERT/blob/main/scrap_journal_abstracts.ipynb\" target=\"_parent\"><img src=\"https://colab.research.google.com/assets/colab-badge.svg\" alt=\"Open In Colab\"/></a>"
      ]
    },
    {
      "cell_type": "code",
      "execution_count": null,
      "metadata": {
        "id": "9qyLaic8qvs4"
      },
      "outputs": [],
      "source": [
        "# ! pip install requests beautifulsoup4"
      ]
    },
    {
      "cell_type": "code",
      "source": [
        "import requests\n",
        "import pandas as pd\n",
        "from bs4 import BeautifulSoup\n",
        "import re\n",
        "from random import randint\n",
        "from time import sleep"
      ],
      "metadata": {
        "id": "EpmkIX6ovTKU"
      },
      "execution_count": 25,
      "outputs": []
    },
    {
      "cell_type": "code",
      "source": [
        "from google.colab import drive\n",
        "drive.mount('/content/drive', force_remount = True)"
      ],
      "metadata": {
        "colab": {
          "base_uri": "https://localhost:8080/"
        },
        "id": "PwKLK-yUgivE",
        "outputId": "6b6db253-09fa-4708-cf46-31175ecc8c15"
      },
      "execution_count": 26,
      "outputs": [
        {
          "output_type": "stream",
          "name": "stdout",
          "text": [
            "Mounted at /content/drive\n"
          ]
        }
      ]
    },
    {
      "cell_type": "markdown",
      "source": [
        "# **Aerospace Research Central Journals**\n",
        "https://arc.aiaa.org/"
      ],
      "metadata": {
        "id": "QdfX4kODbi85"
      }
    },
    {
      "cell_type": "code",
      "source": [
        "# AIAA Journal\n",
        "vol = range(51, 59)\n",
        "i = range(1, 12)\n",
        "path = 'https://arc.aiaa.org/toc/aiaaj/'\n",
        "\n",
        "# JPP\n",
        "vol = range(29, 38)\n",
        "issue = range(1, 7)\n",
        "path = 'https://arc.aiaa.org/toc/jpp/'\n",
        "\n",
        "# JA\n",
        "vol = range(50, 60)\n",
        "issue = range(1, 6)\n",
        "path = 'https://arc.aiaa.org/toc/ja/'"
      ],
      "metadata": {
        "id": "3Idv7Fgpq21T"
      },
      "execution_count": 33,
      "outputs": []
    },
    {
      "cell_type": "code",
      "source": [
        "def scrape_dois(url):\n",
        "\n",
        "  data = requests.get(url)\n",
        "  soup = BeautifulSoup(data.text, \"html.parser\")\n",
        "  links = []\n",
        "  doi_path = \"doi.org\"\n",
        "\n",
        "  for link in soup.findAll('a'): \n",
        "    match = link.get('href')  \n",
        "    if doi_path in match:\n",
        "      links.append(match)\n",
        "    \n",
        "  return links"
      ],
      "metadata": {
        "id": "t8jIF9OsxHF9"
      },
      "execution_count": 34,
      "outputs": []
    },
    {
      "cell_type": "code",
      "source": [
        "def scrape_abstract(url):\n",
        "  sleep(randint(1, 4))\n",
        "  data = data = requests.get(url)\n",
        "  soup = BeautifulSoup(data.text, \"html.parser\")\n",
        "\n",
        "  try:\n",
        "    abstract = soup.find('meta', property = \"og:description\")['content']\n",
        "    \n",
        "  except:\n",
        "    #print('Error')\n",
        "    print(url)\n",
        "    abstract = ''\n",
        "    pass\n",
        "  \n",
        "  doi_abstract = {'doi' : url, 'abstract': abstract}\n",
        "\n",
        "  return doi_abstract"
      ],
      "metadata": {
        "id": "SbQ1QfbYsTMQ"
      },
      "execution_count": 35,
      "outputs": []
    },
    {
      "cell_type": "code",
      "source": [
        "def scrape_export(path, v, i):\n",
        "\n",
        "  abstracts = []\n",
        "  i_path = f'{path}{v}/{i}'  \n",
        "  dois = scrape_dois(i_path)\n",
        "\n",
        "  for doi in dois:\n",
        "\n",
        "    doi_abstract = scrape_abstract(doi)\n",
        "    doi_abstract['volume'] = v\n",
        "    doi_abstract['issue'] = i\n",
        "\n",
        "    abstracts.append(doi_abstract)\n",
        "  \n",
        "  abstracts_df = pd.DataFrame(abstracts)\n",
        "    \n",
        "  return abstracts_df"
      ],
      "metadata": {
        "id": "CoZPMMHL1Lil"
      },
      "execution_count": 36,
      "outputs": []
    },
    {
      "cell_type": "code",
      "source": [
        "! mkdir /content/drive/MyDrive/abstracts/ja/"
      ],
      "metadata": {
        "colab": {
          "base_uri": "https://localhost:8080/"
        },
        "id": "U6z2OXK0Uin0",
        "outputId": "08f8be1f-457a-411b-95b7-c1c6b621faec"
      },
      "execution_count": 37,
      "outputs": [
        {
          "output_type": "stream",
          "name": "stdout",
          "text": [
            "mkdir: cannot create directory ‘/content/drive/MyDrive/abstracts/ja/’: File exists\n"
          ]
        }
      ]
    },
    {
      "cell_type": "code",
      "source": [
        "# JA\n",
        "vol = range(50, 60)\n",
        "issue = range(1, 6)\n",
        "path = 'https://arc.aiaa.org/toc/ja/'\n",
        "\n",
        "save_path = f'/content/drive/MyDrive/abstracts/ja/'\n",
        "\n",
        "for v in vol:\n",
        "  for i in issue:\n",
        "    df = scrape_export(path, v, i)\n",
        "    fn = f'{v}-{i}.csv'\n",
        "    df.to_csv(f'{save_path}{fn}')"
      ],
      "metadata": {
        "id": "sqaKmNKeHSw6",
        "colab": {
          "base_uri": "https://localhost:8080/"
        },
        "outputId": "db020dee-3e02-426d-c290-5450cdeacdb0"
      },
      "execution_count": 38,
      "outputs": [
        {
          "output_type": "stream",
          "name": "stdout",
          "text": [
            "https://doi.org/10.2514/1.C032252\n",
            "https://doi.org/10.2514/1.70000\n",
            "https://doi.org/10.2514/1.70001\n",
            "https://doi.org/10.2514/1.70002\n",
            "https://doi.org/10.2514/1.70003\n",
            "https://doi.org/10.2514/1.C031111\n",
            "https://doi.org/10.2514/1.C031528\n",
            "https://doi.org/10.2514/1.C031708\n",
            "https://doi.org/10.2514/1.C031748\n",
            "https://doi.org/10.2514/1.C031811\n",
            "https://doi.org/10.2514/1.C031868\n",
            "https://doi.org/10.2514/1.C031873\n",
            "https://doi.org/10.2514/1.C031896\n",
            "https://doi.org/10.2514/1.C031934\n",
            "https://doi.org/10.2514/1.C031760\n",
            "https://doi.org/10.2514/1.C031758\n",
            "https://doi.org/10.2514/1.C031902\n",
            "https://doi.org/10.2514/1.C031906\n",
            "https://doi.org/10.2514/1.C031964\n",
            "https://doi.org/10.2514/1.C032011\n",
            "https://doi.org/10.2514/1.C031632\n",
            "https://doi.org/10.2514/1.C031866\n",
            "https://doi.org/10.2514/1.C031961\n",
            "https://doi.org/10.2514/1.C031987\n",
            "https://doi.org/10.2514/1.C031459\n",
            "https://doi.org/10.2514/1.C031915\n",
            "https://doi.org/10.2514/1.C032003\n",
            "https://doi.org/10.2514/1.C032108\n",
            "https://doi.org/10.2514/1.C032128\n",
            "https://doi.org/10.2514/1.C032194\n",
            "https://doi.org/10.2514/1.C031626\n",
            "https://doi.org/10.2514/1.C032176\n",
            "https://doi.org/10.2514/1.C032174\n",
            "https://doi.org/10.2514/1.C032784\n",
            "https://doi.org/10.2514/1.C032802\n",
            "https://doi.org/10.2514/1.C032786\n",
            "https://doi.org/10.2514/1.C032785\n",
            "https://doi.org/10.2514/1.C032763\n",
            "https://doi.org/10.2514/1.C031926\n",
            "https://doi.org/10.2514/1.C032110\n",
            "https://doi.org/10.2514/1.C032183\n",
            "https://doi.org/10.2514/1.C032211\n",
            "https://doi.org/10.2514/1.C032218\n",
            "https://doi.org/10.2514/1.C032241\n",
            "https://doi.org/10.2514/1.C032245\n",
            "https://doi.org/10.2514/1.C032327\n",
            "https://doi.org/10.2514/1.C032547\n",
            "https://doi.org/10.2514/1.C032551\n",
            "https://doi.org/10.2514/1.C031974\n",
            "https://doi.org/10.2514/1.C032520\n",
            "https://doi.org/10.2514/1.C032368\n",
            "https://doi.org/10.2514/1.C032449\n",
            "https://doi.org/10.2514/1.C032509\n",
            "https://doi.org/10.2514/1.C032448\n",
            "https://doi.org/10.2514/1.C032142\n",
            "https://doi.org/10.2514/1.C033081\n",
            "https://doi.org/10.2514/1.C032041\n",
            "https://doi.org/10.2514/1.C032126\n",
            "https://doi.org/10.2514/1.C032282\n",
            "https://doi.org/10.2514/1.C032288\n",
            "https://doi.org/10.2514/1.C032333\n",
            "https://doi.org/10.2514/1.C032452\n",
            "https://doi.org/10.2514/1.C033321\n",
            "https://doi.org/10.2514/1.C033281\n",
            "https://doi.org/10.2514/1.C032484\n",
            "https://doi.org/10.2514/1.C032469\n",
            "https://doi.org/10.2514/1.C032552\n",
            "https://doi.org/10.2514/1.C032513\n",
            "https://doi.org/10.2514/1.C032639\n",
            "https://doi.org/10.2514/1.C032747\n",
            "https://doi.org/10.2514/1.C033119\n",
            "https://doi.org/10.2514/1.C033126\n",
            "https://doi.org/10.2514/1.C033193\n",
            "https://doi.org/10.2514/1.C033479\n",
            "https://doi.org/10.2514/1.C032971\n",
            "https://doi.org/10.2514/1.C033044\n",
            "https://doi.org/10.2514/1.C033059\n",
            "https://doi.org/10.2514/1.C033027\n",
            "https://doi.org/10.2514/1.C033125\n",
            "https://doi.org/10.2514/1.C033190\n",
            "https://doi.org/10.2514/1.C033238\n",
            "https://doi.org/10.2514/1.C033841\n",
            "https://doi.org/10.2514/1.C033778\n",
            "https://doi.org/10.2514/1.C033396\n",
            "https://doi.org/10.2514/1.C033491\n",
            "https://doi.org/10.2514/1.C033438\n",
            "https://doi.org/10.2514/1.C033515\n",
            "https://doi.org/10.2514/1.C032596\n",
            "https://doi.org/10.2514/1.C033524\n",
            "https://doi.org/10.2514/1.C033275\n",
            "https://doi.org/10.2514/1.C033534\n",
            "https://doi.org/10.2514/1.C033576\n",
            "https://doi.org/10.2514/1.C033214\n",
            "https://doi.org/10.2514/1.C033369\n",
            "https://doi.org/10.2514/1.C033430\n",
            "https://doi.org/10.2514/1.C033416\n",
            "https://doi.org/10.2514/1.C033551\n",
            "https://doi.org/10.2514/1.C033766\n",
            "https://doi.org/10.2514/1.C033663\n",
            "https://doi.org/10.2514/1.C033784\n",
            "https://doi.org/10.2514/1.C033558\n",
            "https://doi.org/10.2514/1.C033762\n",
            "https://doi.org/10.2514/1.C033695\n",
            "https://doi.org/10.2514/1.C034359\n",
            "https://doi.org/10.2514/1.C034255\n",
            "https://doi.org/10.2514/1.C033568\n",
            "https://doi.org/10.2514/1.C033511\n",
            "https://doi.org/10.2514/1.C033870\n",
            "https://doi.org/10.2514/1.C033670\n",
            "https://doi.org/10.2514/1.C034291\n",
            "https://doi.org/10.2514/1.C033850\n",
            "https://doi.org/10.2514/1.C033677\n",
            "https://doi.org/10.2514/1.C033876\n",
            "https://doi.org/10.2514/1.C034023\n",
            "https://doi.org/10.2514/1.C033945\n",
            "https://doi.org/10.2514/1.C034098\n",
            "https://doi.org/10.2514/1.C033905\n",
            "https://doi.org/10.2514/1.C034088\n",
            "https://doi.org/10.2514/1.C033668\n",
            "https://doi.org/10.2514/1.C034360\n",
            "https://doi.org/10.2514/1.C033919\n",
            "https://doi.org/10.2514/1.C033947\n",
            "https://doi.org/10.2514/1.C034193\n",
            "https://doi.org/10.2514/1.C033937\n",
            "https://doi.org/10.2514/1.C033574\n",
            "https://doi.org/10.2514/1.C034037\n",
            "https://doi.org/10.2514/1.C034079\n",
            "https://doi.org/10.2514/1.C034293\n",
            "https://doi.org/10.2514/1.C034272\n",
            "https://doi.org/10.2514/1.C034244\n",
            "https://doi.org/10.2514/1.C034029\n",
            "https://doi.org/10.2514/1.C034200\n",
            "https://doi.org/10.2514/1.C034226\n",
            "https://doi.org/10.2514/1.C034279\n",
            "https://doi.org/10.2514/1.C034356\n",
            "https://doi.org/10.2514/1.C034258\n",
            "https://doi.org/10.2514/1.C034358\n",
            "https://doi.org/10.2514/1.C034909\n",
            "https://doi.org/10.2514/1.C034777\n",
            "https://doi.org/10.2514/1.C034806\n",
            "https://doi.org/10.2514/1.C033134\n",
            "https://doi.org/10.2514/1.C034232\n",
            "https://doi.org/10.2514/1.C034355\n",
            "https://doi.org/10.2514/1.C034596\n",
            "https://doi.org/10.2514/1.C034993\n",
            "https://doi.org/10.2514/1.C034451\n",
            "https://doi.org/10.2514/1.C034311\n",
            "https://doi.org/10.2514/1.C034547\n",
            "https://doi.org/10.2514/1.C034197\n",
            "https://doi.org/10.2514/1.C034629\n",
            "https://doi.org/10.2514/1.C034639\n",
            "https://doi.org/10.2514/1.C035143\n",
            "https://doi.org/10.2514/1.C034599\n",
            "https://doi.org/10.2514/1.C034539\n",
            "https://doi.org/10.2514/1.C034616\n",
            "https://doi.org/10.2514/1.C035178\n",
            "https://doi.org/10.2514/1.C034982\n",
            "https://doi.org/10.2514/1.C034851\n",
            "https://doi.org/10.2514/1.C034899\n",
            "https://doi.org/10.2514/1.C034950\n",
            "https://doi.org/10.2514/1.C034939\n",
            "https://doi.org/10.2514/1.C035384\n",
            "https://doi.org/10.2514/1.C035245\n",
            "https://doi.org/10.2514/1.C034781\n",
            "https://doi.org/10.2514/1.C034886\n",
            "https://doi.org/10.2514/1.C034920\n",
            "https://doi.org/10.2514/1.C035041\n",
            "https://doi.org/10.2514/1.C034813\n",
            "https://doi.org/10.2514/1.C035034\n",
            "https://doi.org/10.2514/1.C034445\n",
            "https://doi.org/10.2514/1.C035183\n",
            "https://doi.org/10.2514/1.C035263\n",
            "https://doi.org/10.2514/1.C035282\n",
            "https://doi.org/10.2514/1.C034795\n",
            "https://doi.org/10.2514/1.C035206\n",
            "https://doi.org/10.2514/1.C035323\n",
            "https://doi.org/10.2514/1.C034979\n",
            "https://doi.org/10.2514/1.C034943\n",
            "https://doi.org/10.2514/1.C035011\n",
            "https://doi.org/10.2514/1.C035273\n",
            "https://doi.org/10.2514/1.C035242\n",
            "https://doi.org/10.2514/1.C035236\n",
            "https://doi.org/10.2514/1.C035329\n",
            "https://doi.org/10.2514/1.C035338\n",
            "https://doi.org/10.2514/1.C035399\n",
            "https://doi.org/10.2514/1.C035150\n",
            "https://doi.org/10.2514/1.C035339\n",
            "https://doi.org/10.2514/1.C034887\n",
            "https://doi.org/10.2514/1.C035859\n",
            "https://doi.org/10.2514/1.C035626\n",
            "https://doi.org/10.2514/1.C035613\n",
            "https://doi.org/10.2514/1.C035607\n",
            "https://doi.org/10.2514/1.C035697\n",
            "https://doi.org/10.2514/1.C035586\n",
            "https://doi.org/10.2514/1.C035734\n",
            "https://doi.org/10.2514/1.C035693\n",
            "https://doi.org/10.2514/1.C035757\n",
            "https://doi.org/10.2514/1.C035811\n",
            "https://doi.org/10.2514/1.C035890\n",
            "https://doi.org/10.2514/1.C035801\n",
            "https://doi.org/10.2514/1.C034920.c1\n",
            "https://doi.org/10.2514/1.C035471.c1\n",
            "https://doi.org/10.2514/1.C036037\n",
            "https://doi.org/10.2514/1.C035858\n",
            "https://doi.org/10.2514/1.C035960\n",
            "https://doi.org/10.2514/1.C034709.c1\n",
            "https://doi.org/10.2514/1.C035809\n",
            "https://doi.org/10.2514/1.C035888\n",
            "https://doi.org/10.2514/1.C036019\n",
            "https://doi.org/10.2514/1.C036265\n",
            "https://doi.org/10.2514/1.C036264\n",
            "https://doi.org/10.2514/1.C036022\n",
            "https://doi.org/10.2514/1.C034992.c1\n",
            "https://doi.org/10.2514/1.C034726.c1\n",
            "https://doi.org/10.2514/1.C035928\n",
            "https://doi.org/10.2514/1.C035920\n",
            "https://doi.org/10.2514/1.C035839\n",
            "https://doi.org/10.2514/1.C034694.c1\n",
            "https://doi.org/10.2514/1.C036258\n",
            "https://doi.org/10.2514/1.C036404\n",
            "https://doi.org/10.2514/1.C033086.c1\n",
            "https://doi.org/10.2514/1.C036816\n",
            "https://doi.org/10.2514/1.C036509\n",
            "https://doi.org/10.2514/1.C036488\n",
            "https://doi.org/10.2514/1.C036693\n"
          ]
        }
      ]
    },
    {
      "cell_type": "markdown",
      "source": [
        "# **Journal of Aerospace Engineering**\n",
        "https://ascelibrary.org/journal/jaeeez"
      ],
      "metadata": {
        "id": "Zxt5RmUZcua2"
      }
    },
    {
      "cell_type": "code",
      "source": [
        "def scrape_dois(url):\n",
        "\n",
        "  data = requests.get(url)\n",
        "  soup = BeautifulSoup(data.text, \"html.parser\")\n",
        "  links = []\n",
        "  doi_path = \"doi.org\"\n",
        "\n",
        "  for link in soup.findAll('a'): \n",
        "    match = link.get('href')  \n",
        "    if doi_path in match:\n",
        "      links.append(match)\n",
        "    \n",
        "  return links"
      ],
      "metadata": {
        "id": "l8BdOYZDcM8W"
      },
      "execution_count": null,
      "outputs": []
    },
    {
      "cell_type": "code",
      "source": [
        "def scrape_abstract(url):\n",
        "  \n",
        "  sleep(randint(1, 3))\n",
        "  data = data = requests.get(url)\n",
        "  soup = BeautifulSoup(data.text, \"html.parser\")\n",
        "  # print(soup)\n",
        "\n",
        "  try:\n",
        "    table = soup.findAll('div', attrs = {'class': 'NLM_sec NLM_sec_level_1 hlFld-Abstract'})\n",
        "    for x in table:\n",
        "      abstract = x.find('p').text\n",
        "    \n",
        "  except:\n",
        "    #print('Error')\n",
        "    print(url)\n",
        "    abstract = ''\n",
        "    pass\n",
        "  \n",
        "  doi_abstract = {'doi' : url, 'abstract': abstract}\n",
        "\n",
        "  return doi_abstract"
      ],
      "metadata": {
        "id": "ghgnmxItcmx7"
      },
      "execution_count": null,
      "outputs": []
    },
    {
      "cell_type": "code",
      "source": [
        "def scrape_export(path, v, i):\n",
        "\n",
        "  abstracts = []\n",
        "  i_path = f'{path}{v}/{i}'  \n",
        "  dois = scrape_dois(i_path)\n",
        "\n",
        "  for doi in dois:\n",
        "\n",
        "    doi_abstract = scrape_abstract(doi)\n",
        "    doi_abstract['volume'] = v\n",
        "    doi_abstract['issue'] = i\n",
        "\n",
        "    abstracts.append(doi_abstract)\n",
        "  \n",
        "  abstracts_df = pd.DataFrame(abstracts)\n",
        "    \n",
        "  return abstracts_df"
      ],
      "metadata": {
        "id": "K6cOVwCecpz3"
      },
      "execution_count": null,
      "outputs": []
    },
    {
      "cell_type": "code",
      "source": [
        "vol = range(20, 32)\n",
        "issue = range(2, 6)\n",
        "path = 'https://ascelibrary.org/toc/jaeeez/'\n",
        "\n",
        "for i in issue:\n",
        "  for v in vol:\n",
        "    df = scrape_export(path, v, i)\n",
        "    fn = f'{v}-{i}.csv'\n",
        "    df.to_csv(fn)"
      ],
      "metadata": {
        "id": "xN7d2_AWdCV8"
      },
      "execution_count": null,
      "outputs": []
    }
  ]
}