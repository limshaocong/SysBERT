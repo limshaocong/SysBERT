{
  "nbformat": 4,
  "nbformat_minor": 0,
  "metadata": {
    "colab": {
      "name": "extract_PURE_requirements.ipynb",
      "provenance": [],
      "collapsed_sections": [],
      "authorship_tag": "ABX9TyPCvlmoQ9qEg0V+fThpfK4F",
      "include_colab_link": true
    },
    "kernelspec": {
      "name": "python3",
      "display_name": "Python 3"
    },
    "language_info": {
      "name": "python"
    }
  },
  "cells": [
    {
      "cell_type": "markdown",
      "metadata": {
        "id": "view-in-github",
        "colab_type": "text"
      },
      "source": [
        "<a href=\"https://colab.research.google.com/github/limshaocong/SysBERT/blob/main/extract_PURE_requirements.ipynb\" target=\"_parent\"><img src=\"https://colab.research.google.com/assets/colab-badge.svg\" alt=\"Open In Colab\"/></a>"
      ]
    },
    {
      "cell_type": "code",
      "source": [
        "from os import listdir\n",
        "from os.path import isfile, join\n",
        "from bs4 import BeautifulSoup\n",
        "import re\n",
        "import pandas as pd"
      ],
      "metadata": {
        "id": "FrlFzhXi6ql5"
      },
      "execution_count": null,
      "outputs": []
    },
    {
      "cell_type": "code",
      "source": [
        "! git clone https://github.com/limshaocong/SysBERT.git"
      ],
      "metadata": {
        "colab": {
          "base_uri": "https://localhost:8080/"
        },
        "id": "tm0QFBf5u1ae",
        "outputId": "7a6b5d32-71f4-4618-9d44-b794e01a816d"
      },
      "execution_count": null,
      "outputs": [
        {
          "output_type": "stream",
          "name": "stdout",
          "text": [
            "Cloning into 'SysBERT'...\n",
            "remote: Enumerating objects: 19, done.\u001b[K\n",
            "remote: Counting objects: 100% (19/19), done.\u001b[K\n",
            "remote: Compressing objects: 100% (16/16), done.\u001b[K\n",
            "remote: Total 19 (delta 1), reused 9 (delta 0), pack-reused 0\u001b[K\n",
            "Unpacking objects: 100% (19/19), done.\n"
          ]
        }
      ]
    },
    {
      "cell_type": "code",
      "source": [
        "! mkdir /content/req_data"
      ],
      "metadata": {
        "id": "wREWaA1mu5iD"
      },
      "execution_count": null,
      "outputs": []
    },
    {
      "cell_type": "code",
      "source": [
        "!unzip /content/SysBERT/data/requirements/PURE-requirements-xml.zip -d /content/req_data/"
      ],
      "metadata": {
        "colab": {
          "base_uri": "https://localhost:8080/"
        },
        "id": "sNqVK3IxvH0b",
        "outputId": "5a2ca509-4554-4c33-b987-dfac7ef5e7de"
      },
      "execution_count": null,
      "outputs": [
        {
          "output_type": "stream",
          "name": "stdout",
          "text": [
            "Archive:  /content/SysBERT/data/requirements/PURE-requirements-xml.zip\n",
            "   creating: /content/req_data/XMLZIPFile/\n",
            "  inflating: /content/req_data/XMLZIPFile/0000 - cctns.xml  \n",
            "   creating: /content/req_data/__MACOSX/\n",
            "   creating: /content/req_data/__MACOSX/XMLZIPFile/\n",
            "  inflating: /content/req_data/__MACOSX/XMLZIPFile/._0000 - cctns.xml  \n",
            "  inflating: /content/req_data/XMLZIPFile/0000 - gamma j.xml  \n",
            "  inflating: /content/req_data/__MACOSX/XMLZIPFile/._0000 - gamma j.xml  \n",
            "  inflating: /content/req_data/XMLZIPFile/1995 - gemini.xml  \n",
            "  inflating: /content/req_data/__MACOSX/XMLZIPFile/._1995 - gemini.xml  \n",
            "  inflating: /content/req_data/XMLZIPFile/1998 - themas.xml  \n",
            "  inflating: /content/req_data/__MACOSX/XMLZIPFile/._1998 - themas.xml  \n",
            "  inflating: /content/req_data/XMLZIPFile/1999 - dii.xml  \n",
            "  inflating: /content/req_data/__MACOSX/XMLZIPFile/._1999 - dii.xml  \n",
            "  inflating: /content/req_data/XMLZIPFile/1999 - tcs.xml  \n",
            "  inflating: /content/req_data/__MACOSX/XMLZIPFile/._1999 - tcs.xml  \n",
            "  inflating: /content/req_data/XMLZIPFile/2003 - qheadache.xml  \n",
            "  inflating: /content/req_data/__MACOSX/XMLZIPFile/._2003 - qheadache.xml  \n",
            "  inflating: /content/req_data/XMLZIPFile/2005 - microcare.xml  \n",
            "  inflating: /content/req_data/__MACOSX/XMLZIPFile/._2005 - microcare.xml  \n",
            "  inflating: /content/req_data/XMLZIPFile/2005 - phin.xml  \n",
            "  inflating: /content/req_data/__MACOSX/XMLZIPFile/._2005 - phin.xml  \n",
            "  inflating: /content/req_data/XMLZIPFile/2006 - eirene sys 15.xml  \n",
            "  inflating: /content/req_data/__MACOSX/XMLZIPFile/._2006 - eirene sys 15.xml  \n",
            "  inflating: /content/req_data/XMLZIPFile/2007 - get real 0.2.xml  \n",
            "  inflating: /content/req_data/__MACOSX/XMLZIPFile/._2007 - get real 0.2.xml  \n",
            "  inflating: /content/req_data/XMLZIPFile/2007-eirene_fun_7-2.xml  \n",
            "  inflating: /content/req_data/__MACOSX/XMLZIPFile/._2007-eirene_fun_7-2.xml  \n",
            "  inflating: /content/req_data/XMLZIPFile/2007-ertms.xml  \n",
            "  inflating: /content/req_data/__MACOSX/XMLZIPFile/._2007-ertms.xml  \n",
            "  inflating: /content/req_data/XMLZIPFile/2008 - keepass.xml  \n",
            "  inflating: /content/req_data/__MACOSX/XMLZIPFile/._2008 - keepass.xml  \n",
            "  inflating: /content/req_data/XMLZIPFile/2008 - peering.xml  \n",
            "  inflating: /content/req_data/__MACOSX/XMLZIPFile/._2008 - peering.xml  \n",
            "  inflating: /content/req_data/XMLZIPFile/2009 - peppol approved.xml  \n",
            "  inflating: /content/req_data/__MACOSX/XMLZIPFile/._2009 - peppol approved.xml  \n",
            "  inflating: /content/req_data/XMLZIPFile/2009 - video search.xml  \n",
            "  inflating: /content/req_data/__MACOSX/XMLZIPFile/._2009 - video search.xml  \n",
            "  inflating: /content/req_data/XMLZIPFile/2010-blitdraft.xml  \n",
            "  inflating: /content/req_data/__MACOSX/XMLZIPFile/._2010-blitdraft.xml  \n",
            "  inflating: /content/req_data/__MACOSX/._XMLZIPFile  \n"
          ]
        }
      ]
    },
    {
      "cell_type": "code",
      "source": [
        "path = '/content/req_data/XMLZIPFile'\n",
        "onlyfiles = [f for f in listdir(path) if isfile(join(path, f))]"
      ],
      "metadata": {
        "id": "AA1REqW1vlPX"
      },
      "execution_count": null,
      "outputs": []
    },
    {
      "cell_type": "code",
      "source": [
        "onlyfiles"
      ],
      "metadata": {
        "colab": {
          "base_uri": "https://localhost:8080/"
        },
        "id": "jzeRmo61_JBa",
        "outputId": "86f677c5-46cd-4fd5-ff00-bb7e7ef5de06"
      },
      "execution_count": null,
      "outputs": [
        {
          "output_type": "execute_result",
          "data": {
            "text/plain": [
              "['0000 - gamma j.xml',\n",
              " '2007-ertms.xml',\n",
              " '1998 - themas.xml',\n",
              " '1999 - tcs.xml',\n",
              " '2010-blitdraft.xml',\n",
              " '2009 - peppol approved.xml',\n",
              " '2005 - microcare.xml',\n",
              " '2005 - phin.xml',\n",
              " '2007-eirene_fun_7-2.xml',\n",
              " '2003 - qheadache.xml',\n",
              " '0000 - cctns.xml',\n",
              " '2009 - video search.xml',\n",
              " '2006 - eirene sys 15.xml',\n",
              " '1995 - gemini.xml',\n",
              " '2008 - keepass.xml',\n",
              " '2008 - peering.xml',\n",
              " '1999 - dii.xml',\n",
              " '2007 - get real 0.2.xml']"
            ]
          },
          "metadata": {},
          "execution_count": 6
        }
      ]
    },
    {
      "cell_type": "code",
      "source": [
        "'''\n",
        "Skipped datasets:\n",
        "2009 - peppol approved.xml\n",
        "2003 - qheadache.xml\n",
        "2009 - video search.xml\n",
        "\n",
        "'''"
      ],
      "metadata": {
        "id": "_k6BlaerAfiH",
        "colab": {
          "base_uri": "https://localhost:8080/",
          "height": 35
        },
        "outputId": "65d9fd6c-3837-4600-a93e-f675dda7f3a4"
      },
      "execution_count": null,
      "outputs": [
        {
          "output_type": "execute_result",
          "data": {
            "text/plain": [
              "'\\nSkipped datasets:\\n2009 - peppol approved.xml\\n'"
            ],
            "application/vnd.google.colaboratory.intrinsic+json": {
              "type": "string"
            }
          },
          "metadata": {},
          "execution_count": 7
        }
      ]
    },
    {
      "cell_type": "code",
      "execution_count": null,
      "metadata": {
        "colab": {
          "base_uri": "https://localhost:8080/"
        },
        "id": "Ena2wTker8tD",
        "outputId": "61f3b2de-619a-46a9-f347-6abb40b59f06"
      },
      "outputs": [
        {
          "output_type": "stream",
          "name": "stdout",
          "text": [
            "2008 - keepass.xml\n"
          ]
        },
        {
          "output_type": "execute_result",
          "data": {
            "text/plain": [
              "['This document includes software requirements for KeePass Password Safe, release number 1.10. KeePass Password Safe is an OSI Certified Open Source Software distributed under the terms of the GNU General Public License Version 2 or under. The system gives resolution to memorizing passwords problem. Its purpose is to keep all of the user’s passwords, data, email accounts, usernames and URLs stored in a very secure, encrypted database, protected by a Master Password. The system is very small so it can be easily transferred from one computer to another. It provides several functionalities on the already encrypted data and the new ones to be inserted. The database produced, is protected by a Master Password only known by its inventor with no backup if lost.',\n",
              " '· When writing this document it was inherited that all requirements have the same priority. · First there is presented an overall view about KeePass and then all features and functions are analyzed in detail.',\n",
              " 'This requirement document contains general information about KeePass, main classes and use cases, functions, features and special technologies. It describes in detail all that KeePass needs to work properly and with safety. The rest of the document is divided into chapters for better understanding. In chapter 2 an overall description of KeePass is provided. First product perspective is presented with product features and main functions. Then follow user classes and characteristics, operating environments that KeePass supports as well as design and implementation constraints. After all that user documentation is presented and will provide you with more details about each feature’s technology. In chapter 3 most important features are presented with detailed description, use cases and requirements. In chapter 4 user and communication interfaces are described. In chapter 5 requirements about safety and performance are presented. This document is intended for Developers: in order to be sure they are developing the right project that fulfills requirements provided in this document. Testers: in order to have an exact list of the features and functions that have to respond according to requirements and provided diagrams. Users: in order to get familiar with the idea of the project and suggest other features that would make it even more functional. Documentation writers: to know what features and in what way they have to explain. What security technologies are required, how the system will response in each user’s action etc. Advanced end users, end users/desktop and system administrators: in order to know exactly what they have to expect from the system, right inputs and outputs and response in error situations.',\n",
              " 'KeePass Password Safe is a small system that can be easily transferred from computer to computer by a simple USB stick. Its purpose is to solve a problem that really bothers many people today when they have to choose from memorizing a lot of passwords to be secure or to use every time the same one so they won’t forget it but risk be found out by others. So it provides you a very secure, encrypted database where you can keep inside all your passwords, usernames, email accounts, URLs, notes without any risk for others to find them. That is because KeePass Password Safe can lock every database with only one Master Password and/or key file. There are no duplicates, anywhere in your computer, of this Master Password and/or key file so in case of lost database cannot be opened by anyone. Not even by you and that is because there is no recovery password or back door. KeePass Password Safe beside security also provides you with several functionalities in order to keep your database organized and up to date. Those are analyzed in the following pages. More about KeePass you can find out at http://keepass.info/',\n",
              " 'More about KeePass can be found at http://sourceforge.net/projects/keepass/ In this website you can find out more about the project and discuss any questions in the forums. You can go back and look at previous releases, code and problems that have been solved. There you can also find information about the developers as well as the project’s main characteristics such as programming language and algorithms http://keepass.info/ This is project’s official website where you can find links to all above and also find features available for downloading such as language translations and plug-ins.',\n",
              " 'KeePass consists of a database which contains data for one or more users. Each user’s data are divided into groups and subgroups so that they are organized in a form that serves right the user. Every user has a unique Master Key which can be simple or composite and its combination opens uniquely the database. If lost there is no recovery. Groups and subgroups contain entries with usernames, passwords URLs etc that can be sent or copied to websites, application and accounts. There is also the ability for a onetime key creation to be used once in a transaction without the risk of reused by others for any reason. In the diagram below there are the main components of the system, subsystem interconnections and external interfaces to help you understand the main idea of KeePass. All of them are analyzed with more details in this document.',\n",
              " 'KeePass Password Safe provides the user with the following functions: Database – New, Open, Close, Save, Print, Search, Import, Export User can create a new database locked by a Master Key. The database can be opened and closed whenever user wants it. Changes on the data are permitted and the changes can be saved. The user also can print all data in order to keep them with him even when a computer is not available. Also the user can search the database using key words through a search engine provided with the software. Last but not least, the database can be imported and/or exported from/to the Internet. Group/Subgroup – Add, Modify, Delete, Find Data are organized in groups and subgroups in the order that user wants and finds effective. Those groups can be modified whenever. New groups and subgroups can be added easily and can be deleted the same way. The feature of searching can be applied in just one group and not in the whole database if wanted. Entry – Add, View/Edit, Duplicate, Delete A new entry can be added in any group or subgroup and it contains title, username, password, URL and notes. Not all fields are required for an entry. An entry can be duplicated and deleted in the click of a button. Change Language At KeePass website there are available language translations that can be downloaded and applied easily. Auto-Type The user can select a sequence of keypresses that KeePass will be able to perform and send them to any window or browser. Command Line Options The user can pass a file path in the command line in order for KeePass to open this file at startup. Composite Master Key To open a database you must use all key sources such as password, key file and/or Windows account details that were used when the Master Key was created. All these together form the Composite Master Key and are all required in order to open the database. So the user cannot use a combination of them to unlock the database. Configuration This feature is used to explain how KeePass store its configuration and where. · Import/Export KeePass can support importing data from CSV files, Code Wallet, Password Safe and Personal Vault. Integration KeePass uses Global Hot Key to restore KeePass main window and Limit to single instance option to run only one instance of KeePass at a time. Password Generator There are available generations based on character sets and based on patterns the first for generating random passwords and the second for creating passwords which require specific patterns. There is also available generating passwords that follow rules which are determined further down on this document. Then there are security-reducing options which reduce the security of the passwords they are applied to. Finally there are configuring settings of automatically generated passwords for new entries so that a random password will automatically be created by KeePass when a new entry is wanted. Secure Edit Controls KeePass offers the ability for passwords and data to be appeared behind asterisks when the user wants it. When this option is turned on, secure edit controls stronger than the ones of Windows are protecting your data and no one can access them, see them or steal them. TAN Support KeePass uses TAN-Transaction Authentication Numbers for even more security. This feature can be used for generating one time passwords so that there won’t be any chance, for anyone to access e.g. your bank account even if he finds out that password. That is because when the password is entered one time it becomes useless. TANs can be added using the TANs wizard. URL Field The URL field supports various special protocols and placeholders and can be used for Standard capabilities where URL field can execute valid URLs for which a protocol handler is defined. In addition to that, KeePass supports all registered protocols that Internet Explorer supports. URL field also offers the ability of executed command lines instead of URLs. Also, placeholders can be used that will be automatically replaced when the URL is executed. Using Stored Passwords Passwords that are stored in the database can be copied to website accounts and applications with security and without retyping them again. This can be done by several methods such us Context-Sensitive Password List, Drag and Drop, Auto-Type and KeeForm. All of them are explained better further down. Lock Workspace Last but not least at all is the locking workspace feature. This feature is turned on and locks the database when minimized. So to unlock it the Master Key is required again. The workspace can be locked manually as well by selecting this option from File menu.',\n",
              " 'Advanced end users: users that are familiar with programming and can personalize their database by creating auto-types, using command line options and generally can use features and maybe expand their use by adding more functions. End users/Desktop: users with no particular knowledge on computer programming. They just use the database for organizing their data and to keep them safe. System administrators: administrators working on computers that support a lot of accounts and personal data for other users. Using KeePass the administrator can save all data with no risk of leak to third persons. Science/Research Telecommunications: for organizing data that have to do with lots of people and applications Industry: for one-time passwords that can be used for testing controls or for expired entries to gain access in particular systems and programs. Other Audience',\n",
              " 'KeePass should run on Operating Systems: WINE, 32-bit MS Windows (95/98), 32-bit MS Windows (NT/2000/XP), All 32-bit MS Windows (95/98/NT/2000/XP),Win2K, WinXP, Microsoft Windows Server 2003. The user interfaces used are: NET/Mono, Win32 (MS Windows) All new releases contain Filename Architecture Type KeePass-1.x-Setup.exe i386 .exe (32-bit Windows) KeePass-1.x-Src.zip Platform-Independent Source .zip KeePass-1.x.zip i386 .zip and release notes witch describe what has changed and what has been added. Nothing more than these is required for a fully functional KeePass. KeePass should run perfectly on older releases without any features limitations or data loss.',\n",
              " 'Timing requirements in KeePass Password Safe: When a password is copied for any reason, (e.g. copy to an application, account, and website) it remains in the memory for only 10 seconds. After 10 seconds pass there is nothing to paste and you have to recopy again. That provides security in a case a password is copied and not pasted anywhere so no one can find it out by pasting later. Language Requirements in KeePass Password Safe: Not in all translations translated help files and tutorials are available. Specific Technologies used in KeePass Password Safe: In order to keep the user’s data fully protected, 2 very secure algorithms are used: Cipher Block Size Key Size Advanced Encryption Standard (AES / Rijndael) 128 bits 256 bits Twofish 128 bits 256 bits In both algorithms every time the user saves a database, a random 128-bit initialization vector is generated. For the creation of the 256-bit key the Cipher uses, the Secure Hash Algorithm SHA-256 is used. All the bytes needed for the Initialization Vector, the master key salt, etc are generated via pseudorandom sources: current tick count, performance counter, system date/time, mouse cursor position, memory status, active window focus handles, window message stack, process heap status, process startup information and several system information structures. When the KeePass is active, all passwords are stored encrypted in process memory so in order for them to be completely safe the ARC4 encryption algorithm is used, using a random 12 bytes long key.',\n",
              " 'By downloading KeePass Password Safe, the user also gets: A compiled HTML Help file with a tutorial and full help on all features provided A KeePass Internet shortcut which take the user in the system’s official website where are available downloads, translations, plug-ins and extensions.',\n",
              " 'System features are organized by use cases and functional hierarchy so that the main functions of the system will be understandable.',\n",
              " 'This feature provides the ability to create a new database',\n",
              " 'It is the first thing a user must do to begin using KeePass. Its main function is the determination of the master password that will unlock the database from now on',\n",
              " 'Data Flow',\n",
              " 'User opens KeePass and select New->Database User writes his private Master Password and/or selects Key File User selects OK Master Password confirmation: the user retypes Master Password The main database window opens',\n",
              " 'User selects Help The help file opens',\n",
              " 'User selects Cancel Exit from KeePass',\n",
              " 'The user does not determines a Master Password A message is appeared which prompts him to enter a password or key file',\n",
              " 'REQ-1: KeePass must be downloaded and installed',\n",
              " 'REQ-2: Master Password has no limits in length. A whole sentence can be used with more than 100 characters.',\n",
              " 'This feature allows the user to open an existing database.',\n",
              " 'When choosing to open a database a user is transferred to his documents where he navigates to find the database he wants. When the database is found, the master password is wanted so that the database will be unlocked. Once this is done the user is free to access his data.',\n",
              " 'Data Flow',\n",
              " 'User opens KeePass and select Open->Database User navigates through his folders User selects a database User types Master Password The main database window opens',\n",
              " 'User selects a type of folder non suitable for database A message “file not found” appears User selects another folder',\n",
              " 'Master Password is wrong A message “invalid/wrong key” appears User types another master key',\n",
              " 'User chooses cancel Exit from KeePass',\n",
              " 'Folder selected must be of type the database can read and that is “name”.kdb',\n",
              " 'This feature allows the user to save any changes or updates he has performed to his database.',\n",
              " 'When a database is opened, the user can access his passwords, organize them into new groups and subgroups, delete and add entries and so much more. But when it is time for the database to close or during his working on the database, he can save the changes made.',\n",
              " 'Data Flow',\n",
              " 'User opens KeePass and changes his data User selects save database Database is saved User exits KeePass',\n",
              " 'User selects save as User gives a new database name New database is saved and opens with the same master password',\n",
              " 'User continues working after he saves the database',\n",
              " 'User wants to exit KeePass A message is appeared asking if he wants to save the database User selects yes and exits, or no and exits or cancel and return to database',\n",
              " 'Users minimizes the database A message is appeared asking if he wants to save the database before locking',\n",
              " 'Databases must have different names or else the previews one will be replace if selected',\n",
              " 'This feature allows user to print a selection of data that are stored in the database.',\n",
              " 'While working on the database, the user has the option to print data from his database. This can be done by selecting print. When this happens, a list of data types that can be printed are shown and the user can select the data to be printed. More specifically fields that can be selected for printing are: Backup entries, which contain entries in the back up group, password groups, group tree, title, username, password, URL, notes, creation time, last access, last modification, expires, icon, UUID and attachment.',\n",
              " 'Data Flow',\n",
              " 'User opens KeePass User selects print from file menu The list of options opens with checked the fields: password groups, title, user name, password, URL, notes User selects OK Data are print User returns on the main window',\n",
              " '3a. User selects some more fields and/or unselects some others.',\n",
              " 'User unselects all fields An empty report is printed',\n",
              " 'User selects Cancel User returns on the main window',\n",
              " 'There must be entries in the database in order for them to be printed',\n",
              " 'This feature allows user to search for keywords in his database.',\n",
              " 'There is the ability to search in the database for usernames, groups, passwords, URLs, notes and titles. This is very useful when the user needs to find out very quickly which password is required in one account or what username he has put on another account. It is not necessary to write in the search field all characters. By writing just one character the database will present all data which contains it or are related with it.',\n",
              " 'Data Flow',\n",
              " 'User opens KeePass User types a password, user name, URL, word of notes, title or group that exist in the database The list of data related to search word are appeared in the main window',\n",
              " 'User types two or more words in the search field Nothing appears in the main window',\n",
              " 'User does not type anything Nothing appears in the main window',\n",
              " 'User types part or even just one character of password, user name, URL, word of notes, title or group',\n",
              " 'User types data not related with the database Nothing appears in the main window',\n",
              " 'All data related to the word must be shown. For example if user types “abc” and abc is part of a password and of a username, both entries must be shown',\n",
              " 'This feature is used to keep data organized in categories for easier access.',\n",
              " 'There is the ability to organize data into groups and subgroups. The user can create a new group or subgroups into an existing group. When creating a group/subgroup the user must select a name and then he can add entries into it.',\n",
              " 'Data Flow',\n",
              " 'User opens KeePass and selects to add new group/subgroup User types a name and has the option to select an image User selects OK The group/subgroup is created The access returns to the database main window',\n",
              " 'User leaves the group/subgroup name field empty A message is appeared “Add a name for the group/subgroup”',\n",
              " 'User selects Cancel The access returns to main window',\n",
              " 'A name is required in order for the new group/subgroup to be created',\n",
              " 'A subgroup cannot be created when no group is selected',\n",
              " 'This feature allows user to change a name given to a group/subgroup.',\n",
              " 'When user wants to change a group or subgroup’s name he has the ability to do that by modifying it.',\n",
              " 'Data Flow',\n",
              " 'User opens KeePass and selects modify group/subgroup User types the new name and has the option to select an image User selects OK The group/subgroup changes name The access returns to the database main window',\n",
              " 'User leaves the group/subgroup name field empty A message is appeared “Add a name for the group/subgroup”',\n",
              " 'User selects Cancel The group/subgroup’s name remains the same The access returns to main window',\n",
              " 'A name is required in order for the group/subgroup to be renamed',\n",
              " 'This feature allows the user to delete a group/subgroup.',\n",
              " 'When a user wants to delete an existing group/subgroup he can do this by selecting Delete group/subgroup from the edit menu. In order for that to happen, he must have chosen first a group/subgroup.',\n",
              " 'Data Flow',\n",
              " 'User opens KeePass and selects a group/subgroup User selects to delete the group/subgroup A message is appeared to confirm the delete User selects yes The group/subgroup is deleted The main window opens',\n",
              " 'User selects no The group/subgroup is not deleted',\n",
              " 'Not exists.',\n",
              " 'This feature allows user to find data into a specific group/subgroup.',\n",
              " 'The user selects a group/subgroup and then he chooses “find in this group” from file menu. Then a window appears which prompts the user to write a sequence of characters (letters and numbers) from one character to 200 (or more). After that a menu of options to choose from appears and the user can select to search for: title, user name, password, URL, notes, group name. Search results appear in the main window.',\n",
              " 'Data Flow',\n",
              " 'User opens KeePass and selects to find something in a selected group/subgroup User types the word to search for User selects the fields which will be searched User selects OK Results appears at the database main window',\n",
              " 'User leaves the find field empty All data from the group/subgroup appear',\n",
              " 'User leaves all search in boxes unchecked Nothing appears in the main window',\n",
              " 'User selects cancel The main window appears',\n",
              " 'User leaves the find field empty User leaves all search in boxes unchecked Nothing appears in the main window',\n",
              " 'In order to find something in a group a word must be placed in the find field',\n",
              " 'This feature adds a new entry on the database.',\n",
              " 'The user can add a new entry on the database by clicking add entry on the main menu. When he does this, a window opens which is actually a form. In this form the user completes the fields he wants. He can fill in fields like: group where the entry will be added, title, user name, password, repeat password, URL, notes, expiration date and attachment file. Not all fields are required for an entry to be created. In fact an entry can be added with no fields at all. By selecting OK the entry is created in the group selected.',\n",
              " 'Data Flow',\n",
              " 'User opens KeePass and selects to add an entry User fills in the form, as many fields as he wants, from 1 to 9 User selects OK The new entry is added in the selected group',\n",
              " 'User fills in the password field The repeat password field is not identical with the password field A message appears “the repeated password must be identical with the password',\n",
              " 'User leaves all fields empty',\n",
              " 'User selects help The help file or URL field features or Autotype is opened',\n",
              " 'User selects cancel The main window opens',\n",
              " 'An entry must belong to a group to be created',\n",
              " 'When the password field is completed the repeat password field must be completed',\n",
              " 'REQ-13: Password field and repeat password field must be identical',\n",
              " 'This feature allows the user to change or modify an existing entry.',\n",
              " 'The user can modify the context of an entry he already has added. This can be done by selecting view/edit entry. In order for that to happen, the user must select an entry first. When he does this, the form he filled in when he created or last modified the entry open. Then the user can change the group, title, user name, password, URL, notes, expiration date and attachment file. His changes are saved by clicking OK.',\n",
              " 'Data Flow',\n",
              " 'User opens KeePass and selects to view/edit an existing entry User changes the fields he wants in the form User selects OK The modified entry is saved in the selected group',\n",
              " 'User changes the password field The repeat password field is not identical with the password field A message appears “the repeated password must be identical with the password',\n",
              " 'User selects help The help file or URL field features or Autotype is opened',\n",
              " 'User selects cancel The main window opens and the selected entry is not modified',\n",
              " 'ìAn entry must be selected to be viewed or modified',\n",
              " 'ìWhen the password field is changed the repeat password field must be Changed and be identical with password field',\n",
              " 'This feature creates an exact copy of the selected entry in the same group.',\n",
              " 'The user can create an exact copy of an entry. This can be done by selecting an entry and clicking duplicate entry. When this is done the new entry is added in the same group were the first was.',\n",
              " 'Data Flow',\n",
              " 'User opens KeePass and selects an existing entry User duplicates entry The new entry is added below the first one',\n",
              " 'Not exist',\n",
              " 'An entry must be selected before it is duplicated',\n",
              " 'This feature allows the user to delete an existing entry',\n",
              " 'The user can delete an existing entry by selecting it and then by clicking delete entry. When this is done a message appears and informs the user that if he deletes the entry he won’t be able to restore it back.',\n",
              " 'Data Flow',\n",
              " 'User opens KeePass and selects to delete an existing entry A message appears “Are you sure you want to delete the selected entry?” User selects yes The deleted entry is permanently removed from the database',\n",
              " 'User selects more than one entry',\n",
              " 'User selects no No entry is deleted',\n",
              " 'REQ-17: An entry must be selected to be deleted',\n",
              " 'This feature allows user to choose one of the language translations that are available in KeePass',\n",
              " 'The user can select between a number of translations that are available at KeePass website. There are available translations in Arabic, Brazilian, Bulgarian, Catalan, Chinese (Simplified and Traditional), Czech, Danish, Dutch, English, Estonian, Finnish, French, Galician, German, Greek, Hebrew, Hungarian, Italian, Japanese, Korean, Lithuanian, Macedonian, Malay, Norwegian, Polish, Portuguese, Romanian, Russian, Serbian, Slovak, Spanish, Swedish, Turkish and Ukrainian. All the user has to do is to select change language from the view menu and then the language he wants. If he already has download languages packets he can choose one of them. If he wants another language pack he can select get more language. Doing this he will be transferred at KeePass website and choose the language he wants for downloading.',\n",
              " 'Data Flow',\n",
              " '1. User opens KeePass and selects to change language from the view menu 2. The user selects a language to load from the list that appears 3. A message appears that informs user that the installation has been done and in order for the changes to take place KeePass must be restarted 4. User selects yes (restart now) 5. KeePass asks to save any changes that may have been made in the database and restarts 6. User unlocks the database using the Master Password 7. The database appears translated in the new language',\n",
              " 'User selects get more languages The browser opens in KeePass website were translations are located User selects a language he wants The language file downloads and can be found at the list with available languages in the language menu',\n",
              " 'User selects no (restart later) No changes are appeared in the database until the next time KeePass restarts',\n",
              " 'User selects close No changes are made in the database',\n",
              " 'REQ-18: An internet connection and a browser are required in order to download new language translations For the following features, use cases are not included',\n",
              " 'This feature allows user to define a sequence of keypresses which KeePass will automatically perform.',\n",
              " 'The user defines the sequences which can be sent to any other open window like browsers or login accounts. By default the sent keystroke sequence is {USERNAME}{TAB}{PASSWORD}{ENTER}. There is the ability for the user to define his own auto-type sequence in the notes field of each entry. The sequence must be prefixed with “Auto-Type” and length of one line. If a sequence is more than a line it cannot be used and in case of two sequences in one note’s field only the first one is used. There are 3 methods to invoke auto-type. The first method is to use the context menu command and perform auto-type while the entry is selected. The second method is to select an entry and press Ctrl+V The third method is to use the system-wide auto-type hot key so that KeePass can search all entries in the database for matching sequences.',\n",
              " 'The prefix “Auto-Type:” is required in front of each sequence',\n",
              " 'Sequence’s length must not be more than a line (59 characters)',\n",
              " 'If two auto-types are referred in one note field, only the first is used',\n",
              " 'This feature allows user to pass a file patch in the command line so that KeePass will open it immediately after start up.',\n",
              " 'The database file location is passed as argument in the command line. More about this feature and examples for using it can be found at help contents in KeePass',\n",
              " 'Only one database file is allowed in command line options',\n",
              " 'In case a space is found in the path, it must be enclosed into quotes',\n",
              " 'This feature is a composition of master password and key files and all its composites are required so that the database can be unlocked.',\n",
              " 'The database can be unlocked with a master password, a key file or both of them. But the same composition of them must be used always. A master key is a password the user creates. Once a master key is created for a database, it is always required. In case the user forgets it, the database can never be opened again by any way. A key file is a file that locks the database. The database opens when this file is present. If the file is lost and there are no copies of it, all data are gone forever and database never unlocks again.',\n",
              " 'If a master password is required to unlock the database, the database doesn’t open unless the password is entered',\n",
              " 'If a key file is required to unlock the database, the database doesn’t open unless the key file is present',\n",
              " 'If there is a composite key, both master password and key file are required',\n",
              " 'In case of lost master password or key file, the database never unlocks again. There is no recovery',\n",
              " 'There is no backdoor or key that unlocks all databases',\n",
              " 'This feature gives the ability to user to import/export files from/to database.',\n",
              " 'There is the ability to import data from CSV files, code wallet, password safe and password vault. There are available plug-ins which add more import capabilities and formats and those are: File format CSV and File format XML. There isn’t any standard password database format and every password manager uses its own file format. Despite that, almost all support exporting to CSV or XML files.',\n",
              " 'REQ-29: File formats are not specialized password database formats',\n",
              " 'REQ-30: File formats only specify a low-level layout of stored data',\n",
              " 'This feature allows switching back from an application to KeePass.',\n",
              " 'The global hot key takes the user back from one window to KeePass. In case of multiple databases running of KeePass the global hot key restores the window which was opened first of all. The global hot key is Ctrl+Alt+K',\n",
              " 'Global hot key cannot be changed',\n",
              " 'This feature generates random passwords.',\n",
              " 'The password generator creates random passwords every time an entry is created. This password may contain letters (big and small) and numbers. The user can keep it or he can put his own in the field. The generation can be based on character sets, patterns or can be created according by rules. This feature can be disabled if user wants it by selecting 0 as password length in the password generator dialog. More about characters sets and patterns can be found at KeePass Help Files including directions and examples.',\n",
              " 'According to restriction rules that are applied every time.',\n",
              " 'This feature allows creation of Transaction Authentication Numbers.',\n",
              " 'TANs can be passwords that provide security because they can never be used for more than once time. They can be added to user’s database by using TAN wizard and can contain all letters and numbers. When TAN are created, they appear as typical entries which in the field title contain “TAN” so that KeePass will know it’s a TAN. In TAN entries, user cannot change the title, user name or URL but notes can be added. When a TAN is used, its expiration time is set to that current time and the entry expires automatically.',\n",
              " 'Title, username or URL cannot be changed in a TAN entry.',\n",
              " 'When a TAN is used, it expires automatically and can never be used again.',\n",
              " 'User interface includes various forms and windows. The main database window consists of the main menu bar with file, edit, view, tools and help. Under main menu there is a toolbar with shortcuts to most used functions of KeePass. Those are: new, open, save, add entry, edit/view entry, delete entry, copy username to clipboard, copy password to clipboard, find in database and lock workspace. On the main database window are appeared entries from a selected group. Groups and subgroups can be found at a side bar. When a function is performed like adding, editing or deleting, the active window is the one performing the action. At this time the main database window is inactive and cannot be accessed unless the current active window is closed. KeePass as referred previously uses NET/Mono and Win32 (MS Windows) interfaces.',\n",
              " 'Internet connection and a browser are required in order for several functions to be executed such as downloading plug-ins',\n",
              " 'When a password is copied, it remains on memory for only 10 seconds. If in the meanwhile it is not pasted anywhere, it must be copied again. That happens so that if user copies a password and not paste it anywhere, the password cannot be found by anyone later.',\n",
              " 'When a USB which contains the database is removed from a computer while changes haven’t been completely saved, the database is damaged and cannot be opened. In this case the repair functionality can help by repairing KeePass database file from tools menu. In case the user forgets or loses the Master Password, the repair functionality won’t help. In case the header of the database, which is the first few bytes, is corrupted, again the repair functionality won’t help. To avoid this kind of situations, backups can be done regularly.',\n",
              " 'KeePass is a small and light project so it does not need to be installed. All it takes is unpacking from the Zip package. It can be transferred also in a USB stick with no additional configuration needed. KeePass is a project that once uninstalled from a computer, leaves no trace behind. So there is no way passwords and other data in the database to be found later. KeePass is developed under GNU General Public License version 2 or later (copy from http://www.gnu.org/licenses/gpl.html) and can be distributed under those terms. KeePass can be found and downloaded from www.sourceforge.com and the project’s official website at http://keepass.info/ for free.']"
            ]
          },
          "metadata": {},
          "execution_count": 26
        }
      ],
      "source": [
        "req_file = onlyfiles[14]\n",
        "print(req_file)\n",
        "\n",
        "with open(f'{path}/{req_file}', 'r') as f:\n",
        "    data = f.read()\n",
        "\n",
        "soup = BeautifulSoup(data, 'lxml')\n",
        "\n",
        "table = soup.findAll('text_body')\n",
        "\n",
        "lines = [span.get_text() for span in table]\n",
        "\n",
        "# Remove start and end whitespaces using line.strip\n",
        "# Remove excess whitespaces with re\n",
        "clean_lines = [re.sub(' +', ' ', line.strip()) for line in lines]\n",
        "clean_lines = [line.replace('\\n',' ') for line in clean_lines]\n",
        "clean_lines = [line.replace('\\t',' ') for line in clean_lines]\n",
        "clean_lines = [re.sub(' +', ' ', line.strip()) for line in clean_lines]\n",
        "\n",
        "\n",
        "clean_lines"
      ]
    },
    {
      "cell_type": "code",
      "source": [
        "# Find start and end indexes\n",
        "start = clean_lines.index('The system is based on the GSM architecture which is summarised in figure 1-3. (I)')\n",
        "end = clean_lines.index('All direct mode equipment shall provide the facility to broadcast an in-band audio shunting link assurance signal as defined in subsection 14.4.2 of the [EIRENE FRS]. (M)')"
      ],
      "metadata": {
        "id": "xqsIWZjX4jBr"
      },
      "execution_count": null,
      "outputs": []
    },
    {
      "cell_type": "code",
      "source": [
        "def export_selected_requirements(req_file, req_lines, start_idx, end_idx):\n",
        "  \n",
        "  req_lines = clean_lines[start_idx : end_idx]\n",
        "  temp_dict = {\n",
        "    'source' : [req_file] * len(req_lines),\n",
        "    'reqs' : req_lines,\n",
        "  }\n",
        "  \n",
        "  df = pd.DataFrame(temp_dict)\n",
        "\n",
        "  df.to_csv(f'requirements_{req_file[:-4]}.csv')\n",
        "\n",
        "  return df"
      ],
      "metadata": {
        "id": "Ajg9J8gz679z"
      },
      "execution_count": null,
      "outputs": []
    },
    {
      "cell_type": "code",
      "source": [
        "x = export_selected_requirements(req_file, clean_lines, start, end)\n",
        "x "
      ],
      "metadata": {
        "colab": {
          "base_uri": "https://localhost:8080/",
          "height": 424
        },
        "id": "3c8eZrUs7b6N",
        "outputId": "f9a2b3c5-b33c-40e9-a6c0-c5ac437fa1f1"
      },
      "execution_count": null,
      "outputs": [
        {
          "output_type": "execute_result",
          "data": {
            "text/plain": [
              "                       source  \\\n",
              "0    2006 - eirene sys 15.xml   \n",
              "1    2006 - eirene sys 15.xml   \n",
              "2    2006 - eirene sys 15.xml   \n",
              "3    2006 - eirene sys 15.xml   \n",
              "4    2006 - eirene sys 15.xml   \n",
              "..                        ...   \n",
              "479  2006 - eirene sys 15.xml   \n",
              "480  2006 - eirene sys 15.xml   \n",
              "481  2006 - eirene sys 15.xml   \n",
              "482  2006 - eirene sys 15.xml   \n",
              "483  2006 - eirene sys 15.xml   \n",
              "\n",
              "                                                  reqs  \n",
              "0    The system is based on the GSM architecture wh...  \n",
              "1    The system comprises the following elements: (...  \n",
              "2    Signalling within the NSS and between NSSs is ...  \n",
              "3    Railway networks may implement a short message...  \n",
              "4    A railway GSM network is also likely to have e...  \n",
              "..                                                 ...  \n",
              "479  Equipment should default to operation on the c...  \n",
              "480  Direct mode communications will only be used i...  \n",
              "481  The presence of the GSM-R network shall be ind...  \n",
              "482  All terminals shall ensure that when GSM-R ser...  \n",
              "483  In the event of GSM-R causing disruption to on...  \n",
              "\n",
              "[484 rows x 2 columns]"
            ],
            "text/html": [
              "\n",
              "  <div id=\"df-b7dedb4a-2421-4c24-a675-6a2fba86091e\">\n",
              "    <div class=\"colab-df-container\">\n",
              "      <div>\n",
              "<style scoped>\n",
              "    .dataframe tbody tr th:only-of-type {\n",
              "        vertical-align: middle;\n",
              "    }\n",
              "\n",
              "    .dataframe tbody tr th {\n",
              "        vertical-align: top;\n",
              "    }\n",
              "\n",
              "    .dataframe thead th {\n",
              "        text-align: right;\n",
              "    }\n",
              "</style>\n",
              "<table border=\"1\" class=\"dataframe\">\n",
              "  <thead>\n",
              "    <tr style=\"text-align: right;\">\n",
              "      <th></th>\n",
              "      <th>source</th>\n",
              "      <th>reqs</th>\n",
              "    </tr>\n",
              "  </thead>\n",
              "  <tbody>\n",
              "    <tr>\n",
              "      <th>0</th>\n",
              "      <td>2006 - eirene sys 15.xml</td>\n",
              "      <td>The system is based on the GSM architecture wh...</td>\n",
              "    </tr>\n",
              "    <tr>\n",
              "      <th>1</th>\n",
              "      <td>2006 - eirene sys 15.xml</td>\n",
              "      <td>The system comprises the following elements: (...</td>\n",
              "    </tr>\n",
              "    <tr>\n",
              "      <th>2</th>\n",
              "      <td>2006 - eirene sys 15.xml</td>\n",
              "      <td>Signalling within the NSS and between NSSs is ...</td>\n",
              "    </tr>\n",
              "    <tr>\n",
              "      <th>3</th>\n",
              "      <td>2006 - eirene sys 15.xml</td>\n",
              "      <td>Railway networks may implement a short message...</td>\n",
              "    </tr>\n",
              "    <tr>\n",
              "      <th>4</th>\n",
              "      <td>2006 - eirene sys 15.xml</td>\n",
              "      <td>A railway GSM network is also likely to have e...</td>\n",
              "    </tr>\n",
              "    <tr>\n",
              "      <th>...</th>\n",
              "      <td>...</td>\n",
              "      <td>...</td>\n",
              "    </tr>\n",
              "    <tr>\n",
              "      <th>479</th>\n",
              "      <td>2006 - eirene sys 15.xml</td>\n",
              "      <td>Equipment should default to operation on the c...</td>\n",
              "    </tr>\n",
              "    <tr>\n",
              "      <th>480</th>\n",
              "      <td>2006 - eirene sys 15.xml</td>\n",
              "      <td>Direct mode communications will only be used i...</td>\n",
              "    </tr>\n",
              "    <tr>\n",
              "      <th>481</th>\n",
              "      <td>2006 - eirene sys 15.xml</td>\n",
              "      <td>The presence of the GSM-R network shall be ind...</td>\n",
              "    </tr>\n",
              "    <tr>\n",
              "      <th>482</th>\n",
              "      <td>2006 - eirene sys 15.xml</td>\n",
              "      <td>All terminals shall ensure that when GSM-R ser...</td>\n",
              "    </tr>\n",
              "    <tr>\n",
              "      <th>483</th>\n",
              "      <td>2006 - eirene sys 15.xml</td>\n",
              "      <td>In the event of GSM-R causing disruption to on...</td>\n",
              "    </tr>\n",
              "  </tbody>\n",
              "</table>\n",
              "<p>484 rows × 2 columns</p>\n",
              "</div>\n",
              "      <button class=\"colab-df-convert\" onclick=\"convertToInteractive('df-b7dedb4a-2421-4c24-a675-6a2fba86091e')\"\n",
              "              title=\"Convert this dataframe to an interactive table.\"\n",
              "              style=\"display:none;\">\n",
              "        \n",
              "  <svg xmlns=\"http://www.w3.org/2000/svg\" height=\"24px\"viewBox=\"0 0 24 24\"\n",
              "       width=\"24px\">\n",
              "    <path d=\"M0 0h24v24H0V0z\" fill=\"none\"/>\n",
              "    <path d=\"M18.56 5.44l.94 2.06.94-2.06 2.06-.94-2.06-.94-.94-2.06-.94 2.06-2.06.94zm-11 1L8.5 8.5l.94-2.06 2.06-.94-2.06-.94L8.5 2.5l-.94 2.06-2.06.94zm10 10l.94 2.06.94-2.06 2.06-.94-2.06-.94-.94-2.06-.94 2.06-2.06.94z\"/><path d=\"M17.41 7.96l-1.37-1.37c-.4-.4-.92-.59-1.43-.59-.52 0-1.04.2-1.43.59L10.3 9.45l-7.72 7.72c-.78.78-.78 2.05 0 2.83L4 21.41c.39.39.9.59 1.41.59.51 0 1.02-.2 1.41-.59l7.78-7.78 2.81-2.81c.8-.78.8-2.07 0-2.86zM5.41 20L4 18.59l7.72-7.72 1.47 1.35L5.41 20z\"/>\n",
              "  </svg>\n",
              "      </button>\n",
              "      \n",
              "  <style>\n",
              "    .colab-df-container {\n",
              "      display:flex;\n",
              "      flex-wrap:wrap;\n",
              "      gap: 12px;\n",
              "    }\n",
              "\n",
              "    .colab-df-convert {\n",
              "      background-color: #E8F0FE;\n",
              "      border: none;\n",
              "      border-radius: 50%;\n",
              "      cursor: pointer;\n",
              "      display: none;\n",
              "      fill: #1967D2;\n",
              "      height: 32px;\n",
              "      padding: 0 0 0 0;\n",
              "      width: 32px;\n",
              "    }\n",
              "\n",
              "    .colab-df-convert:hover {\n",
              "      background-color: #E2EBFA;\n",
              "      box-shadow: 0px 1px 2px rgba(60, 64, 67, 0.3), 0px 1px 3px 1px rgba(60, 64, 67, 0.15);\n",
              "      fill: #174EA6;\n",
              "    }\n",
              "\n",
              "    [theme=dark] .colab-df-convert {\n",
              "      background-color: #3B4455;\n",
              "      fill: #D2E3FC;\n",
              "    }\n",
              "\n",
              "    [theme=dark] .colab-df-convert:hover {\n",
              "      background-color: #434B5C;\n",
              "      box-shadow: 0px 1px 3px 1px rgba(0, 0, 0, 0.15);\n",
              "      filter: drop-shadow(0px 1px 2px rgba(0, 0, 0, 0.3));\n",
              "      fill: #FFFFFF;\n",
              "    }\n",
              "  </style>\n",
              "\n",
              "      <script>\n",
              "        const buttonEl =\n",
              "          document.querySelector('#df-b7dedb4a-2421-4c24-a675-6a2fba86091e button.colab-df-convert');\n",
              "        buttonEl.style.display =\n",
              "          google.colab.kernel.accessAllowed ? 'block' : 'none';\n",
              "\n",
              "        async function convertToInteractive(key) {\n",
              "          const element = document.querySelector('#df-b7dedb4a-2421-4c24-a675-6a2fba86091e');\n",
              "          const dataTable =\n",
              "            await google.colab.kernel.invokeFunction('convertToInteractive',\n",
              "                                                     [key], {});\n",
              "          if (!dataTable) return;\n",
              "\n",
              "          const docLinkHtml = 'Like what you see? Visit the ' +\n",
              "            '<a target=\"_blank\" href=https://colab.research.google.com/notebooks/data_table.ipynb>data table notebook</a>'\n",
              "            + ' to learn more about interactive tables.';\n",
              "          element.innerHTML = '';\n",
              "          dataTable['output_type'] = 'display_data';\n",
              "          await google.colab.output.renderOutput(dataTable, element);\n",
              "          const docLink = document.createElement('div');\n",
              "          docLink.innerHTML = docLinkHtml;\n",
              "          element.appendChild(docLink);\n",
              "        }\n",
              "      </script>\n",
              "    </div>\n",
              "  </div>\n",
              "  "
            ]
          },
          "metadata": {},
          "execution_count": 24
        }
      ]
    }
  ]
}