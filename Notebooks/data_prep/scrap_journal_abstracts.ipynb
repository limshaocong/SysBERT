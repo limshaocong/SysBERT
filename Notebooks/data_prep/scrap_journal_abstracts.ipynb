{
  "nbformat": 4,
  "nbformat_minor": 0,
  "metadata": {
    "colab": {
      "name": "scrap journal abstracts.ipynb",
      "provenance": [],
      "collapsed_sections": [
        "QdfX4kODbi85",
        "Zxt5RmUZcua2"
      ],
      "authorship_tag": "ABX9TyM4Ld/3sdoIdwtx8Rp/1PO4",
      "include_colab_link": true
    },
    "kernelspec": {
      "name": "python3",
      "display_name": "Python 3"
    },
    "language_info": {
      "name": "python"
    }
  },
  "cells": [
    {
      "cell_type": "markdown",
      "metadata": {
        "id": "view-in-github",
        "colab_type": "text"
      },
      "source": [
        "<a href=\"https://colab.research.google.com/github/limshaocong/SysBERT/blob/main/notebooks/data_prep/scrap_journal_abstracts.ipynb\" target=\"_parent\"><img src=\"https://colab.research.google.com/assets/colab-badge.svg\" alt=\"Open In Colab\"/></a>"
      ]
    },
    {
      "cell_type": "code",
      "execution_count": null,
      "metadata": {
        "id": "9qyLaic8qvs4"
      },
      "outputs": [],
      "source": [
        "# ! pip install requests beautifulsoup4"
      ]
    },
    {
      "cell_type": "code",
      "source": [
        "import requests\n",
        "import pandas as pd\n",
        "from bs4 import BeautifulSoup\n",
        "import re\n",
        "from random import randint\n",
        "from time import sleep"
      ],
      "metadata": {
        "id": "EpmkIX6ovTKU"
      },
      "execution_count": 1,
      "outputs": []
    },
    {
      "cell_type": "code",
      "source": [
        "from google.colab import drive\n",
        "drive.mount('/content/drive', force_remount = True)"
      ],
      "metadata": {
        "colab": {
          "base_uri": "https://localhost:8080/"
        },
        "id": "PwKLK-yUgivE",
        "outputId": "c99e40cc-c95f-4137-f48a-bf3e0ba79976"
      },
      "execution_count": 3,
      "outputs": [
        {
          "output_type": "stream",
          "name": "stdout",
          "text": [
            "Mounted at /content/drive\n"
          ]
        }
      ]
    },
    {
      "cell_type": "markdown",
      "source": [
        "# **Aerospace Research Central Journals**\n",
        "https://arc.aiaa.org/"
      ],
      "metadata": {
        "id": "QdfX4kODbi85"
      }
    },
    {
      "cell_type": "code",
      "source": [
        "# AIAA Journal\n",
        "vol = range(51, 59)\n",
        "i = range(1, 12)\n",
        "path = 'https://arc.aiaa.org/toc/aiaaj/'\n",
        "\n",
        "# JPP\n",
        "vol = range(29, 38)\n",
        "issue = range(1, 7)\n",
        "path = 'https://arc.aiaa.org/toc/jpp/'\n",
        "\n",
        "# JA\n",
        "vol = range(50, 60)\n",
        "issue = range(1, 6)\n",
        "path = 'https://arc.aiaa.org/toc/ja/'\n",
        "\n",
        "# JGCD\n",
        "vol = range(36, 44)\n",
        "issue = range(1, 12)\n",
        "path = 'https://arc.aiaa.org/toc/jgcd/'"
      ],
      "metadata": {
        "id": "3Idv7Fgpq21T"
      },
      "execution_count": 4,
      "outputs": []
    },
    {
      "cell_type": "code",
      "source": [
        "def scrape_dois(url):\n",
        "\n",
        "  data = requests.get(url)\n",
        "  soup = BeautifulSoup(data.text, \"html.parser\")\n",
        "  links = []\n",
        "  doi_path = \"doi.org\"\n",
        "\n",
        "  for link in soup.findAll('a'): \n",
        "    match = link.get('href')  \n",
        "    if doi_path in match:\n",
        "      links.append(match)\n",
        "    \n",
        "  return links"
      ],
      "metadata": {
        "id": "t8jIF9OsxHF9"
      },
      "execution_count": 5,
      "outputs": []
    },
    {
      "cell_type": "code",
      "source": [
        "def scrape_abstract(url):\n",
        "  sleep(randint(1, 4))\n",
        "  data = data = requests.get(url)\n",
        "  soup = BeautifulSoup(data.text, \"html.parser\")\n",
        "\n",
        "  try:\n",
        "    abstract = soup.find('meta', property = \"og:description\")['content']\n",
        "    \n",
        "  except:\n",
        "    #print('Error')\n",
        "    print(url)\n",
        "    abstract = ''\n",
        "    pass\n",
        "  \n",
        "  doi_abstract = {'doi' : url, 'abstract': abstract}\n",
        "\n",
        "  return doi_abstract"
      ],
      "metadata": {
        "id": "SbQ1QfbYsTMQ"
      },
      "execution_count": 6,
      "outputs": []
    },
    {
      "cell_type": "code",
      "source": [
        "def scrape_export(path, v, i):\n",
        "\n",
        "  abstracts = []\n",
        "  i_path = f'{path}{v}/{i}'  \n",
        "  dois = scrape_dois(i_path)\n",
        "\n",
        "  for doi in dois:\n",
        "\n",
        "    doi_abstract = scrape_abstract(doi)\n",
        "    doi_abstract['volume'] = v\n",
        "    doi_abstract['issue'] = i\n",
        "\n",
        "    abstracts.append(doi_abstract)\n",
        "  \n",
        "  abstracts_df = pd.DataFrame(abstracts)\n",
        "    \n",
        "  return abstracts_df"
      ],
      "metadata": {
        "id": "CoZPMMHL1Lil"
      },
      "execution_count": 7,
      "outputs": []
    },
    {
      "cell_type": "code",
      "source": [
        "! mkdir /content/drive/MyDrive/abstracts/jgcd/"
      ],
      "metadata": {
        "id": "U6z2OXK0Uin0"
      },
      "execution_count": 8,
      "outputs": []
    },
    {
      "cell_type": "code",
      "source": [
        "# JGCD\n",
        "vol = range(36, 44)\n",
        "issue = range(1, 12)\n",
        "path = 'https://arc.aiaa.org/toc/jgcd/'\n",
        "\n",
        "save_path = f'/content/drive/MyDrive/abstracts/jgcd/'\n",
        "\n",
        "for v in vol:\n",
        "  for i in issue:\n",
        "    df = scrape_export(path, v, i)\n",
        "    fn = f'{v}-{i}.csv'\n",
        "    df.to_csv(f'{save_path}{fn}')"
      ],
      "metadata": {
        "id": "sqaKmNKeHSw6"
      },
      "execution_count": null,
      "outputs": []
    },
    {
      "cell_type": "markdown",
      "source": [
        "# **Journal of Aerospace Engineering**\n",
        "https://ascelibrary.org/journal/jaeeez"
      ],
      "metadata": {
        "id": "Zxt5RmUZcua2"
      }
    },
    {
      "cell_type": "code",
      "source": [
        "def scrape_dois(url):\n",
        "\n",
        "  data = requests.get(url)\n",
        "  soup = BeautifulSoup(data.text, \"html.parser\")\n",
        "  links = []\n",
        "  doi_path = \"doi.org\"\n",
        "\n",
        "  for link in soup.findAll('a'): \n",
        "    match = link.get('href')  \n",
        "    if doi_path in match:\n",
        "      links.append(match)\n",
        "    \n",
        "  return links"
      ],
      "metadata": {
        "id": "l8BdOYZDcM8W"
      },
      "execution_count": null,
      "outputs": []
    },
    {
      "cell_type": "code",
      "source": [
        "def scrape_abstract(url):\n",
        "  \n",
        "  sleep(randint(1, 3))\n",
        "  data = data = requests.get(url)\n",
        "  soup = BeautifulSoup(data.text, \"html.parser\")\n",
        "  # print(soup)\n",
        "\n",
        "  try:\n",
        "    table = soup.findAll('div', attrs = {'class': 'NLM_sec NLM_sec_level_1 hlFld-Abstract'})\n",
        "    for x in table:\n",
        "      abstract = x.find('p').text\n",
        "    \n",
        "  except:\n",
        "    #print('Error')\n",
        "    print(url)\n",
        "    abstract = ''\n",
        "    pass\n",
        "  \n",
        "  doi_abstract = {'doi' : url, 'abstract': abstract}\n",
        "\n",
        "  return doi_abstract"
      ],
      "metadata": {
        "id": "ghgnmxItcmx7"
      },
      "execution_count": null,
      "outputs": []
    },
    {
      "cell_type": "code",
      "source": [
        "def scrape_export(path, v, i):\n",
        "\n",
        "  abstracts = []\n",
        "  i_path = f'{path}{v}/{i}'  \n",
        "  dois = scrape_dois(i_path)\n",
        "\n",
        "  for doi in dois:\n",
        "\n",
        "    doi_abstract = scrape_abstract(doi)\n",
        "    doi_abstract['volume'] = v\n",
        "    doi_abstract['issue'] = i\n",
        "\n",
        "    abstracts.append(doi_abstract)\n",
        "  \n",
        "  abstracts_df = pd.DataFrame(abstracts)\n",
        "    \n",
        "  return abstracts_df"
      ],
      "metadata": {
        "id": "K6cOVwCecpz3"
      },
      "execution_count": null,
      "outputs": []
    },
    {
      "cell_type": "code",
      "source": [
        "vol = range(20, 32)\n",
        "issue = range(2, 6)\n",
        "path = 'https://ascelibrary.org/toc/jaeeez/'\n",
        "\n",
        "for i in issue:\n",
        "  for v in vol:\n",
        "    df = scrape_export(path, v, i)\n",
        "    fn = f'{v}-{i}.csv'\n",
        "    df.to_csv(fn)"
      ],
      "metadata": {
        "id": "xN7d2_AWdCV8"
      },
      "execution_count": null,
      "outputs": []
    }
  ]
}