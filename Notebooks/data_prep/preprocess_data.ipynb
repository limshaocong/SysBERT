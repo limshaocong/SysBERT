{
  "nbformat": 4,
  "nbformat_minor": 0,
  "metadata": {
    "colab": {
      "name": "Pre-process Data.ipynb",
      "provenance": [],
      "collapsed_sections": [],
      "authorship_tag": "ABX9TyO3t47Qg4beo5biStM5lSzD",
      "include_colab_link": true
    },
    "kernelspec": {
      "name": "python3",
      "display_name": "Python 3"
    },
    "language_info": {
      "name": "python"
    }
  },
  "cells": [
    {
      "cell_type": "markdown",
      "metadata": {
        "id": "view-in-github",
        "colab_type": "text"
      },
      "source": [
        "<a href=\"https://colab.research.google.com/github/limshaocong/SysBERT/blob/main/Notebooks/data_prep/preprocess_data.ipynb\" target=\"_parent\"><img src=\"https://colab.research.google.com/assets/colab-badge.svg\" alt=\"Open In Colab\"/></a>"
      ]
    },
    {
      "cell_type": "code",
      "execution_count": 4,
      "metadata": {
        "id": "tbpHmSV-EodS"
      },
      "outputs": [],
      "source": [
        "import pandas as pd\n",
        "\n",
        "promise_path = 'https://raw.githubusercontent.com/limshaocong/SysBERT/main/Requirements/Labeled/Sequence_Classification/Raw/promise-reclass.csv'\n",
        "drone_path = 'https://raw.githubusercontent.com/limshaocong/SysBERT/main/Requirements/Labeled/Sequence_Classification/Raw/dronology.csv'\n",
        "leeds_path = 'https://raw.githubusercontent.com/limshaocong/SysBERT/main/Requirements/Labeled/Sequence_Classification/Raw/leeds.csv'\n",
        "reqview_path = 'https://raw.githubusercontent.com/limshaocong/SysBERT/main/Requirements/Labeled/Sequence_Classification/Raw/reqview.csv'\n",
        "wasp_path = 'https://raw.githubusercontent.com/limshaocong/SysBERT/main/Requirements/Labeled/Sequence_Classification/Raw/wasp.csv'\n",
        "\n",
        "promise = pd.read_csv(promise_path, encoding = 'ISO-8859-1')\n",
        "drone = pd.read_csv(drone_path, encoding = 'ISO-8859-1')\n",
        "leeds = pd.read_csv(leeds_path, encoding = 'ISO-8859-1')\n",
        "reqview = pd.read_csv(reqview_path, encoding = 'ISO-8859-1')\n",
        "wasp = pd.read_csv(wasp_path, encoding = 'ISO-8859-1')"
      ]
    },
    {
      "cell_type": "code",
      "source": [
        "dfs = [promise[['reqs', 'is_functional']],\n",
        "       drone[['reqs', 'is_functional']],\n",
        "       leeds[['reqs', 'is_functional']],\n",
        "       reqview[['reqs', 'is_functional']],\n",
        "       wasp[['reqs', 'is_functional']]\n",
        "]\n",
        "\n",
        "df = pd.concat(dfs)\n",
        "\n",
        "n = df.shape[0]\n",
        "print(f'{n} requirements')\n",
        "\n",
        "df.head()"
      ],
      "metadata": {
        "id": "8cSIrXS3Ktmz",
        "outputId": "b2ca76b8-fee5-4ed5-cbac-12d6fc874df1",
        "colab": {
          "base_uri": "https://localhost:8080/",
          "height": 225
        }
      },
      "execution_count": 16,
      "outputs": [
        {
          "output_type": "stream",
          "name": "stdout",
          "text": [
            "956 requirements\n"
          ]
        },
        {
          "output_type": "execute_result",
          "data": {
            "text/plain": [
              "                                                reqs  is_functional\n",
              "0  The system shall refresh the display every 60 ...              1\n",
              "1  The application shall match the color of the s...              0\n",
              "2  If projected the data must be readable. On a 1...              0\n",
              "3  The product shall be available during normal b...              0\n",
              "4  If projected the data must be understandable. ...              0"
            ],
            "text/html": [
              "\n",
              "  <div id=\"df-dcafc317-7e08-4772-80e4-7a22fe60e53e\">\n",
              "    <div class=\"colab-df-container\">\n",
              "      <div>\n",
              "<style scoped>\n",
              "    .dataframe tbody tr th:only-of-type {\n",
              "        vertical-align: middle;\n",
              "    }\n",
              "\n",
              "    .dataframe tbody tr th {\n",
              "        vertical-align: top;\n",
              "    }\n",
              "\n",
              "    .dataframe thead th {\n",
              "        text-align: right;\n",
              "    }\n",
              "</style>\n",
              "<table border=\"1\" class=\"dataframe\">\n",
              "  <thead>\n",
              "    <tr style=\"text-align: right;\">\n",
              "      <th></th>\n",
              "      <th>reqs</th>\n",
              "      <th>is_functional</th>\n",
              "    </tr>\n",
              "  </thead>\n",
              "  <tbody>\n",
              "    <tr>\n",
              "      <th>0</th>\n",
              "      <td>The system shall refresh the display every 60 ...</td>\n",
              "      <td>1</td>\n",
              "    </tr>\n",
              "    <tr>\n",
              "      <th>1</th>\n",
              "      <td>The application shall match the color of the s...</td>\n",
              "      <td>0</td>\n",
              "    </tr>\n",
              "    <tr>\n",
              "      <th>2</th>\n",
              "      <td>If projected the data must be readable. On a 1...</td>\n",
              "      <td>0</td>\n",
              "    </tr>\n",
              "    <tr>\n",
              "      <th>3</th>\n",
              "      <td>The product shall be available during normal b...</td>\n",
              "      <td>0</td>\n",
              "    </tr>\n",
              "    <tr>\n",
              "      <th>4</th>\n",
              "      <td>If projected the data must be understandable. ...</td>\n",
              "      <td>0</td>\n",
              "    </tr>\n",
              "  </tbody>\n",
              "</table>\n",
              "</div>\n",
              "      <button class=\"colab-df-convert\" onclick=\"convertToInteractive('df-dcafc317-7e08-4772-80e4-7a22fe60e53e')\"\n",
              "              title=\"Convert this dataframe to an interactive table.\"\n",
              "              style=\"display:none;\">\n",
              "        \n",
              "  <svg xmlns=\"http://www.w3.org/2000/svg\" height=\"24px\"viewBox=\"0 0 24 24\"\n",
              "       width=\"24px\">\n",
              "    <path d=\"M0 0h24v24H0V0z\" fill=\"none\"/>\n",
              "    <path d=\"M18.56 5.44l.94 2.06.94-2.06 2.06-.94-2.06-.94-.94-2.06-.94 2.06-2.06.94zm-11 1L8.5 8.5l.94-2.06 2.06-.94-2.06-.94L8.5 2.5l-.94 2.06-2.06.94zm10 10l.94 2.06.94-2.06 2.06-.94-2.06-.94-.94-2.06-.94 2.06-2.06.94z\"/><path d=\"M17.41 7.96l-1.37-1.37c-.4-.4-.92-.59-1.43-.59-.52 0-1.04.2-1.43.59L10.3 9.45l-7.72 7.72c-.78.78-.78 2.05 0 2.83L4 21.41c.39.39.9.59 1.41.59.51 0 1.02-.2 1.41-.59l7.78-7.78 2.81-2.81c.8-.78.8-2.07 0-2.86zM5.41 20L4 18.59l7.72-7.72 1.47 1.35L5.41 20z\"/>\n",
              "  </svg>\n",
              "      </button>\n",
              "      \n",
              "  <style>\n",
              "    .colab-df-container {\n",
              "      display:flex;\n",
              "      flex-wrap:wrap;\n",
              "      gap: 12px;\n",
              "    }\n",
              "\n",
              "    .colab-df-convert {\n",
              "      background-color: #E8F0FE;\n",
              "      border: none;\n",
              "      border-radius: 50%;\n",
              "      cursor: pointer;\n",
              "      display: none;\n",
              "      fill: #1967D2;\n",
              "      height: 32px;\n",
              "      padding: 0 0 0 0;\n",
              "      width: 32px;\n",
              "    }\n",
              "\n",
              "    .colab-df-convert:hover {\n",
              "      background-color: #E2EBFA;\n",
              "      box-shadow: 0px 1px 2px rgba(60, 64, 67, 0.3), 0px 1px 3px 1px rgba(60, 64, 67, 0.15);\n",
              "      fill: #174EA6;\n",
              "    }\n",
              "\n",
              "    [theme=dark] .colab-df-convert {\n",
              "      background-color: #3B4455;\n",
              "      fill: #D2E3FC;\n",
              "    }\n",
              "\n",
              "    [theme=dark] .colab-df-convert:hover {\n",
              "      background-color: #434B5C;\n",
              "      box-shadow: 0px 1px 3px 1px rgba(0, 0, 0, 0.15);\n",
              "      filter: drop-shadow(0px 1px 2px rgba(0, 0, 0, 0.3));\n",
              "      fill: #FFFFFF;\n",
              "    }\n",
              "  </style>\n",
              "\n",
              "      <script>\n",
              "        const buttonEl =\n",
              "          document.querySelector('#df-dcafc317-7e08-4772-80e4-7a22fe60e53e button.colab-df-convert');\n",
              "        buttonEl.style.display =\n",
              "          google.colab.kernel.accessAllowed ? 'block' : 'none';\n",
              "\n",
              "        async function convertToInteractive(key) {\n",
              "          const element = document.querySelector('#df-dcafc317-7e08-4772-80e4-7a22fe60e53e');\n",
              "          const dataTable =\n",
              "            await google.colab.kernel.invokeFunction('convertToInteractive',\n",
              "                                                     [key], {});\n",
              "          if (!dataTable) return;\n",
              "\n",
              "          const docLinkHtml = 'Like what you see? Visit the ' +\n",
              "            '<a target=\"_blank\" href=https://colab.research.google.com/notebooks/data_table.ipynb>data table notebook</a>'\n",
              "            + ' to learn more about interactive tables.';\n",
              "          element.innerHTML = '';\n",
              "          dataTable['output_type'] = 'display_data';\n",
              "          await google.colab.output.renderOutput(dataTable, element);\n",
              "          const docLink = document.createElement('div');\n",
              "          docLink.innerHTML = docLinkHtml;\n",
              "          element.appendChild(docLink);\n",
              "        }\n",
              "      </script>\n",
              "    </div>\n",
              "  </div>\n",
              "  "
            ]
          },
          "metadata": {},
          "execution_count": 16
        }
      ]
    },
    {
      "cell_type": "code",
      "source": [
        "def class_distribution(df):\n",
        "\n",
        "  df_n = df.shape[0]\n",
        "  functional = df['is_functional'].value_counts()\n",
        "  print(f'Functional: {\"{:.3f}\".format(functional[1]/df_n)}, Non-functional: {\"{:.3f}\".format(functional[0]/df_n)}')"
      ],
      "metadata": {
        "id": "mcOkmDR8EuQR"
      },
      "execution_count": 12,
      "outputs": []
    },
    {
      "cell_type": "code",
      "source": [
        "class_distribution(df)"
      ],
      "metadata": {
        "id": "VPpd72EmLTc7",
        "outputId": "a5299777-123d-4b73-9fe9-66f2267cafe1",
        "colab": {
          "base_uri": "https://localhost:8080/"
        }
      },
      "execution_count": 13,
      "outputs": [
        {
          "output_type": "stream",
          "name": "stdout",
          "text": [
            "Functional: 0.605, Non-functional: 0.395\n"
          ]
        }
      ]
    },
    {
      "cell_type": "code",
      "source": [
        "from sklearn.model_selection import train_test_split\n",
        "\n",
        "X_train, X_val_test, y_train, y_val_test = train_test_split(\n",
        "    df['reqs'],\n",
        "    df['is_functional'],\n",
        "    test_size = 0.3,\n",
        "    random_state = 1234\n",
        ")\n",
        "\n",
        "X_val, X_test, y_val, y_test = train_test_split(\n",
        "    X_val_test,\n",
        "    y_val_test,\n",
        "    test_size = 0.5,\n",
        "    random_state = 1234\n",
        ")\n",
        "\n",
        "train = pd.concat([X_train, y_train], axis = 1)\n",
        "val = pd.concat([X_val, y_val], axis = 1)\n",
        "test = pd.concat([X_test, y_test], axis = 1)\n",
        "\n",
        "print(f'Train')\n",
        "class_distribution(train)\n",
        "print(f'Validate')\n",
        "class_distribution(val)\n",
        "print(f'Test')\n",
        "class_distribution(test)"
      ],
      "metadata": {
        "id": "GzLsx9WEExTm",
        "outputId": "ffcee18f-4399-4309-8b86-87c643d47f81",
        "colab": {
          "base_uri": "https://localhost:8080/"
        }
      },
      "execution_count": 29,
      "outputs": [
        {
          "output_type": "stream",
          "name": "stdout",
          "text": [
            "Train\n",
            "Functional: 0.608, Non-functional: 0.392\n",
            "Validate\n",
            "Functional: 0.615, Non-functional: 0.385\n",
            "Test\n",
            "Functional: 0.576, Non-functional: 0.424\n"
          ]
        }
      ]
    },
    {
      "cell_type": "code",
      "source": [
        "train.to_csv('train.csv', index = False)\n",
        "val.to_csv('val.csv', index = False)\n",
        "test.to_csv('test.csv', index = False)"
      ],
      "metadata": {
        "id": "zoKTeJGHEzQG"
      },
      "execution_count": 31,
      "outputs": []
    }
  ]
}