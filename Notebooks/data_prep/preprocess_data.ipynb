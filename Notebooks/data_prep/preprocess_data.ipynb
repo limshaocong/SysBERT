{
  "nbformat": 4,
  "nbformat_minor": 0,
  "metadata": {
    "colab": {
      "name": "Pre-process Data.ipynb",
      "provenance": [],
      "collapsed_sections": [],
      "authorship_tag": "ABX9TyMp1bDQMIPoLKLtKDMcPxR5",
      "include_colab_link": true
    },
    "kernelspec": {
      "name": "python3",
      "display_name": "Python 3"
    },
    "language_info": {
      "name": "python"
    }
  },
  "cells": [
    {
      "cell_type": "markdown",
      "metadata": {
        "id": "view-in-github",
        "colab_type": "text"
      },
      "source": [
        "<a href=\"https://colab.research.google.com/github/limshaocong/SysBERT/blob/main/Pre_process_Data.ipynb\" target=\"_parent\"><img src=\"https://colab.research.google.com/assets/colab-badge.svg\" alt=\"Open In Colab\"/></a>"
      ]
    },
    {
      "cell_type": "code",
      "execution_count": null,
      "metadata": {
        "id": "tbpHmSV-EodS"
      },
      "outputs": [],
      "source": [
        "import pandas as pd\n",
        "\n",
        "promise_url = 'https://raw.githubusercontent.com/limshaocong/SysBERT/main/Requirements/Labeled/Sequence%20Classification/promise-reclass.csv'\n",
        "promise = pd.read_csv(promise_url, encoding = 'ISO-8859-1')\n",
        "\n",
        "n = promise.shape[0]\n",
        "print(f'{n} requirements')\n",
        "\n",
        "promise.head()"
      ]
    },
    {
      "cell_type": "code",
      "source": [
        "def class_distribution(df):\n",
        "\n",
        "  df_n = df.shape[0]\n",
        "  functional = df['is_functional'].value_counts()\n",
        "  print(f'Functional: {\"{:.3f}\".format(functional[1]/df_n)}, Non-functional: {\"{:.3f}\".format(functional[0]/df_n)}')"
      ],
      "metadata": {
        "id": "mcOkmDR8EuQR"
      },
      "execution_count": null,
      "outputs": []
    },
    {
      "cell_type": "code",
      "source": [
        "from sklearn.model_selection import train_test_split\n",
        "\n",
        "X_train, X_val_test, y_train, y_val_test = train_test_split(\n",
        "    promise['reqs'],\n",
        "    promise['is_functional'],\n",
        "    test_size = 0.3,\n",
        "    random_state = 1234\n",
        ")\n",
        "\n",
        "X_val, X_test, y_val, y_test = train_test_split(\n",
        "    X_val_test,\n",
        "    y_val_test,\n",
        "    test_size = 0.5,\n",
        "    random_state = 1234\n",
        ")\n",
        "\n",
        "train = pd.merge(X_train, y_train, right_index = True, left_index = True)\n",
        "val = pd.merge(X_val, y_val, right_index = True, left_index = True)\n",
        "test = pd.merge(X_test, y_test, right_index = True, left_index = True)\n",
        "\n",
        "print(f'Train')\n",
        "class_distribution(train)\n",
        "print(f'Validate')\n",
        "class_distribution(val)\n",
        "print(f'Test')\n",
        "class_distribution(test)"
      ],
      "metadata": {
        "id": "GzLsx9WEExTm"
      },
      "execution_count": null,
      "outputs": []
    },
    {
      "cell_type": "code",
      "source": [
        "train.to_csv('train.csv', index = False)\n",
        "val.to_csv('val.csv', index = False)\n",
        "test.to_csv('test.csv', index = False)"
      ],
      "metadata": {
        "id": "zoKTeJGHEzQG"
      },
      "execution_count": null,
      "outputs": []
    }
  ]
}