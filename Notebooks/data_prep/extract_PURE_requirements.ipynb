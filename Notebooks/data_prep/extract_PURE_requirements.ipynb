{
  "nbformat": 4,
  "nbformat_minor": 0,
  "metadata": {
    "colab": {
      "name": "extract_PURE_requirements.ipynb",
      "provenance": [],
      "collapsed_sections": [],
      "authorship_tag": "ABX9TyPozLyMwh6WptY/q5Xw2pL5",
      "include_colab_link": true
    },
    "kernelspec": {
      "name": "python3",
      "display_name": "Python 3"
    },
    "language_info": {
      "name": "python"
    }
  },
  "cells": [
    {
      "cell_type": "markdown",
      "metadata": {
        "id": "view-in-github",
        "colab_type": "text"
      },
      "source": [
        "<a href=\"https://colab.research.google.com/github/limshaocong/SysBERT/blob/main/notebooks/data_prep/extract_PURE_requirements.ipynb\" target=\"_parent\"><img src=\"https://colab.research.google.com/assets/colab-badge.svg\" alt=\"Open In Colab\"/></a>"
      ]
    },
    {
      "cell_type": "code",
      "source": [
        "from os import listdir\n",
        "from os.path import isfile, join\n",
        "from bs4 import BeautifulSoup\n",
        "import re\n",
        "import pandas as pd"
      ],
      "metadata": {
        "id": "FrlFzhXi6ql5"
      },
      "execution_count": 1,
      "outputs": []
    },
    {
      "cell_type": "code",
      "source": [
        "! git clone https://github.com/limshaocong/SysBERT.git"
      ],
      "metadata": {
        "colab": {
          "base_uri": "https://localhost:8080/"
        },
        "id": "tm0QFBf5u1ae",
        "outputId": "5ec0e0da-de04-4a61-e876-5beae69a1b2e"
      },
      "execution_count": 2,
      "outputs": [
        {
          "output_type": "stream",
          "name": "stdout",
          "text": [
            "Cloning into 'SysBERT'...\n",
            "remote: Enumerating objects: 315, done.\u001b[K\n",
            "remote: Counting objects: 100% (315/315), done.\u001b[K\n",
            "remote: Compressing objects: 100% (306/306), done.\u001b[K\n",
            "remote: Total 315 (delta 10), reused 298 (delta 4), pack-reused 0\u001b[K\n",
            "Receiving objects: 100% (315/315), 2.98 MiB | 10.46 MiB/s, done.\n",
            "Resolving deltas: 100% (10/10), done.\n"
          ]
        }
      ]
    },
    {
      "cell_type": "code",
      "source": [
        "! mkdir /content/req_data"
      ],
      "metadata": {
        "id": "wREWaA1mu5iD"
      },
      "execution_count": 3,
      "outputs": []
    },
    {
      "cell_type": "code",
      "source": [
        "!unzip /content/SysBERT/data/requirements/PURE-requirements-xml.zip -d /content/req_data/"
      ],
      "metadata": {
        "colab": {
          "base_uri": "https://localhost:8080/"
        },
        "id": "sNqVK3IxvH0b",
        "outputId": "93213a5f-0bc5-43be-8140-e7e7e3878bf5"
      },
      "execution_count": 4,
      "outputs": [
        {
          "output_type": "stream",
          "name": "stdout",
          "text": [
            "Archive:  /content/SysBERT/data/requirements/PURE-requirements-xml.zip\n",
            "   creating: /content/req_data/XMLZIPFile/\n",
            "  inflating: /content/req_data/XMLZIPFile/0000 - cctns.xml  \n",
            "   creating: /content/req_data/__MACOSX/\n",
            "   creating: /content/req_data/__MACOSX/XMLZIPFile/\n",
            "  inflating: /content/req_data/__MACOSX/XMLZIPFile/._0000 - cctns.xml  \n",
            "  inflating: /content/req_data/XMLZIPFile/0000 - gamma j.xml  \n",
            "  inflating: /content/req_data/__MACOSX/XMLZIPFile/._0000 - gamma j.xml  \n",
            "  inflating: /content/req_data/XMLZIPFile/1995 - gemini.xml  \n",
            "  inflating: /content/req_data/__MACOSX/XMLZIPFile/._1995 - gemini.xml  \n",
            "  inflating: /content/req_data/XMLZIPFile/1998 - themas.xml  \n",
            "  inflating: /content/req_data/__MACOSX/XMLZIPFile/._1998 - themas.xml  \n",
            "  inflating: /content/req_data/XMLZIPFile/1999 - dii.xml  \n",
            "  inflating: /content/req_data/__MACOSX/XMLZIPFile/._1999 - dii.xml  \n",
            "  inflating: /content/req_data/XMLZIPFile/1999 - tcs.xml  \n",
            "  inflating: /content/req_data/__MACOSX/XMLZIPFile/._1999 - tcs.xml  \n",
            "  inflating: /content/req_data/XMLZIPFile/2003 - qheadache.xml  \n",
            "  inflating: /content/req_data/__MACOSX/XMLZIPFile/._2003 - qheadache.xml  \n",
            "  inflating: /content/req_data/XMLZIPFile/2005 - microcare.xml  \n",
            "  inflating: /content/req_data/__MACOSX/XMLZIPFile/._2005 - microcare.xml  \n",
            "  inflating: /content/req_data/XMLZIPFile/2005 - phin.xml  \n",
            "  inflating: /content/req_data/__MACOSX/XMLZIPFile/._2005 - phin.xml  \n",
            "  inflating: /content/req_data/XMLZIPFile/2006 - eirene sys 15.xml  \n",
            "  inflating: /content/req_data/__MACOSX/XMLZIPFile/._2006 - eirene sys 15.xml  \n",
            "  inflating: /content/req_data/XMLZIPFile/2007 - get real 0.2.xml  \n",
            "  inflating: /content/req_data/__MACOSX/XMLZIPFile/._2007 - get real 0.2.xml  \n",
            "  inflating: /content/req_data/XMLZIPFile/2007-eirene_fun_7-2.xml  \n",
            "  inflating: /content/req_data/__MACOSX/XMLZIPFile/._2007-eirene_fun_7-2.xml  \n",
            "  inflating: /content/req_data/XMLZIPFile/2007-ertms.xml  \n",
            "  inflating: /content/req_data/__MACOSX/XMLZIPFile/._2007-ertms.xml  \n",
            "  inflating: /content/req_data/XMLZIPFile/2008 - keepass.xml  \n",
            "  inflating: /content/req_data/__MACOSX/XMLZIPFile/._2008 - keepass.xml  \n",
            "  inflating: /content/req_data/XMLZIPFile/2008 - peering.xml  \n",
            "  inflating: /content/req_data/__MACOSX/XMLZIPFile/._2008 - peering.xml  \n",
            "  inflating: /content/req_data/XMLZIPFile/2009 - peppol approved.xml  \n",
            "  inflating: /content/req_data/__MACOSX/XMLZIPFile/._2009 - peppol approved.xml  \n",
            "  inflating: /content/req_data/XMLZIPFile/2009 - video search.xml  \n",
            "  inflating: /content/req_data/__MACOSX/XMLZIPFile/._2009 - video search.xml  \n",
            "  inflating: /content/req_data/XMLZIPFile/2010-blitdraft.xml  \n",
            "  inflating: /content/req_data/__MACOSX/XMLZIPFile/._2010-blitdraft.xml  \n",
            "  inflating: /content/req_data/__MACOSX/._XMLZIPFile  \n"
          ]
        }
      ]
    },
    {
      "cell_type": "code",
      "source": [
        "path = '/content/req_data/XMLZIPFile'\n",
        "onlyfiles = [f for f in listdir(path) if isfile(join(path, f))]"
      ],
      "metadata": {
        "id": "AA1REqW1vlPX"
      },
      "execution_count": 5,
      "outputs": []
    },
    {
      "cell_type": "code",
      "source": [
        "onlyfiles.sort()\n",
        "onlyfiles"
      ],
      "metadata": {
        "colab": {
          "base_uri": "https://localhost:8080/"
        },
        "id": "jzeRmo61_JBa",
        "outputId": "9e3f68c8-3903-4785-8ce9-be36b0b677e4"
      },
      "execution_count": 8,
      "outputs": [
        {
          "output_type": "execute_result",
          "data": {
            "text/plain": [
              "['0000 - cctns.xml',\n",
              " '0000 - gamma j.xml',\n",
              " '1995 - gemini.xml',\n",
              " '1998 - themas.xml',\n",
              " '1999 - dii.xml',\n",
              " '1999 - tcs.xml',\n",
              " '2003 - qheadache.xml',\n",
              " '2005 - microcare.xml',\n",
              " '2005 - phin.xml',\n",
              " '2006 - eirene sys 15.xml',\n",
              " '2007 - get real 0.2.xml',\n",
              " '2007-eirene_fun_7-2.xml',\n",
              " '2007-ertms.xml',\n",
              " '2008 - keepass.xml',\n",
              " '2008 - peering.xml',\n",
              " '2009 - peppol approved.xml',\n",
              " '2009 - video search.xml',\n",
              " '2010-blitdraft.xml']"
            ]
          },
          "metadata": {},
          "execution_count": 8
        }
      ]
    },
    {
      "cell_type": "code",
      "execution_count": 21,
      "metadata": {
        "id": "Ena2wTker8tD"
      },
      "outputs": [],
      "source": [
        "def extract_lines(idx):\n",
        "\n",
        "  req_file = onlyfiles[idx]\n",
        "  # print(req_file)\n",
        "\n",
        "  with open(f'{path}/{req_file}', 'r') as f:\n",
        "      data = f.read()\n",
        "\n",
        "  soup = BeautifulSoup(data, 'lxml')\n",
        "\n",
        "  table = soup.findAll('text_body')\n",
        "\n",
        "  lines = [span.get_text() for span in table]\n",
        "\n",
        "  # Remove start and end whitespaces using line.strip\n",
        "  # Remove excess whitespaces with re\n",
        "  clean_lines = [re.sub(' +', ' ', line.strip()) for line in lines]\n",
        "  clean_lines = [line.replace('\\n',' ') for line in clean_lines]\n",
        "  clean_lines = [line.replace('\\t',' ') for line in clean_lines]\n",
        "  clean_lines = [re.sub(' +', ' ', line.strip()) for line in clean_lines]\n",
        "\n",
        "  temp_dict = {\n",
        "    'source' : [req_file] * len(clean_lines),\n",
        "    'reqs' : clean_lines,\n",
        "  }\n",
        "  \n",
        "  df = pd.DataFrame(temp_dict)\n",
        "\n",
        "  df.to_csv(f'requirements_{req_file[:-4]}.csv')"
      ]
    },
    {
      "cell_type": "code",
      "source": [
        "for idx, onlyfile in enumerate(onlyfiles):\n",
        "\n",
        "  print(idx)\n",
        "\n",
        "  extract_lines(idx)"
      ],
      "metadata": {
        "id": "flyWim-Iavr7"
      },
      "execution_count": null,
      "outputs": []
    },
    {
      "cell_type": "code",
      "source": [
        "listdir()"
      ],
      "metadata": {
        "id": "iT0zo5x4dj1t",
        "outputId": "89564fd1-176d-4408-81d0-b4a3608d04b6",
        "colab": {
          "base_uri": "https://localhost:8080/"
        }
      },
      "execution_count": 24,
      "outputs": [
        {
          "output_type": "execute_result",
          "data": {
            "text/plain": [
              "['.config',\n",
              " 'requirements_2005 - microcare.csv',\n",
              " 'requirements_2005 - phin.csv',\n",
              " 'requirements_0000 - cctns.csv',\n",
              " 'requirements_2006 - eirene sys 15.csv',\n",
              " 'requirements_2003 - qheadache.csv',\n",
              " 'requirements_1999 - dii.csv',\n",
              " 'requirements_2009 - peppol approved.csv',\n",
              " 'requirements_1999 - tcs.csv',\n",
              " 'requirements_1995 - gemini.csv',\n",
              " 'requirements_2010-blitdraft.csv',\n",
              " 'requirements_2008 - keepass.csv',\n",
              " 'SysBERT',\n",
              " 'requirements_2007 - get real 0.2.csv',\n",
              " 'requirements_2007-eirene_fun_7-2.csv',\n",
              " 'requirements_2007-ertms.csv',\n",
              " 'requirements_2008 - peering.csv',\n",
              " '.ipynb_checkpoints',\n",
              " 'requirements_2009 - video search.csv',\n",
              " 'req_data',\n",
              " 'requirements_1998 - themas.csv',\n",
              " 'requirements_0000 - gamma j.csv',\n",
              " 'sample_data']"
            ]
          },
          "metadata": {},
          "execution_count": 24
        }
      ]
    }
  ]
}